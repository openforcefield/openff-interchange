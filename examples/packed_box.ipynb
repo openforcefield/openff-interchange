{
 "cells": [
  {
   "cell_type": "code",
   "execution_count": null,
   "id": "40714e5a-2dce-44ca-a9b9-9c9abee01caa",
   "metadata": {},
   "outputs": [],
   "source": [
    "from pprint import pprint\n",
    "\n",
    "import numpy as np\n",
    "from openff.toolkit.topology import Molecule, Topology\n",
    "from openff.toolkit.typing.engines.smirnoff.forcefield import ForceField\n",
    "from openff.toolkit.utils import get_data_file_path\n",
    "from openff.units import unit\n",
    "from openmm import app\n",
    "from openmm import unit as openmm_unit\n",
    "\n",
    "from openff.interchange import Interchange"
   ]
  },
  {
   "cell_type": "code",
   "execution_count": null,
   "id": "792ab4fc-baf0-4352-8f24-5dc0be3e5180",
   "metadata": {
    "tags": []
   },
   "outputs": [],
   "source": [
    "# Load a PDB file packaged with the OpenFF Toolkit\n",
    "pdbfile = app.PDBFile(\n",
    "    get_data_file_path(\"systems/packmol_boxes/propane_methane_butanol_0.2_0.3_0.5.pdb\")\n",
    ")"
   ]
  },
  {
   "cell_type": "code",
   "execution_count": null,
   "id": "c8b95182-dd20-43be-9c3a-36e2440022ca",
   "metadata": {},
   "outputs": [],
   "source": [
    "# The OpenFF Topology currently requires that all molecular representations have\n",
    "# chemiformatics data not present in a PDB file, including bond orders and\n",
    "# stereochemistry. Therefore, Topology.from_openmm() requiures a list of\n",
    "# Molecule objects with this data to be passed through. For more, see\n",
    "# https://open-forcefield-toolkit.readthedocs.io/en/latest/api/generated/openff.toolkit.topology.Topology.html#openff.toolkit.topology.Topology.from_openmm)\n",
    "\n",
    "molecules = [Molecule.from_smiles(smi) for smi in [\"CCC\", \"C\", \"CCCCO\"]]\n",
    "topology = Topology.from_openmm(pdbfile.topology, unique_molecules=molecules)"
   ]
  },
  {
   "cell_type": "code",
   "execution_count": null,
   "id": "40331ad6-f8f0-4eaf-ba77-8070293dbafa",
   "metadata": {},
   "outputs": [],
   "source": [
    "# Load in a mainline OpenFF force field\n",
    "sage = ForceField(\"openff-2.0.0.offxml\")"
   ]
  },
  {
   "cell_type": "code",
   "execution_count": null,
   "id": "e7437723-5c17-4dc7-ad9b-cd98ad3ae6fd",
   "metadata": {},
   "outputs": [],
   "source": [
    "# Create an Interchange object\n",
    "out = Interchange.from_smirnoff(force_field=sage, topology=topology)"
   ]
  },
  {
   "cell_type": "code",
   "execution_count": null,
   "id": "948afe33-1281-493b-afbb-b351d4af7b91",
   "metadata": {},
   "outputs": [],
   "source": [
    "# The OpenFF Topology represents a chemical graph without explicit positions, so\n",
    "# set the positions of the Interchange object with the positions in the PDB fiile\n",
    "out.positions = pdbfile.positions"
   ]
  },
  {
   "cell_type": "code",
   "execution_count": null,
   "id": "8b1c0f1b-2da8-4a23-a5f6-e97158d919ab",
   "metadata": {},
   "outputs": [],
   "source": [
    "# Topology.from_openmm(), however, reads the periodic vectors from the PDB file and\n",
    "# Interchnage.from_smirnoff() uses these to set the .box attribute, so we don't need\n",
    "# to set it. But we can verify that they are equal\n",
    "assert np.allclose(\n",
    "    out.box.m_as(unit.nanometer),\n",
    "    pdbfile.topology.getPeriodicBoxVectors().value_in_unit(openmm_unit.nanometer),\n",
    ")"
   ]
  },
  {
   "cell_type": "code",
   "execution_count": null,
   "id": "6b49e507-f19c-4945-bd7b-cc722e6dc03d",
   "metadata": {},
   "outputs": [],
   "source": [
    "# The Interchange package includes a module for obtaining single-point energies of\n",
    "# Interchange objects by calling out to molecular mechanics engines. Here we query,\n",
    "# inspect, and compare the energies obtained via OpenMM and GROMACS\n",
    "from openff.interchange.drivers import (\n",
    "    get_gromacs_energies,\n",
    "    get_lammps_energies,\n",
    "    get_openmm_energies,\n",
    ")\n",
    "\n",
    "gromacs_energies = get_gromacs_energies(out)\n",
    "openmm_energies = get_openmm_energies(out)\n",
    "lammps_energies = get_lammps_energies(out)"
   ]
  },
  {
   "cell_type": "code",
   "execution_count": null,
   "id": "5b58bf55-302b-464a-8d89-740bcfdb7803",
   "metadata": {},
   "outputs": [],
   "source": [
    "print(openmm_energies)"
   ]
  },
  {
   "cell_type": "code",
   "execution_count": null,
   "id": "6933beb9-48f9-407c-9289-e011b00cf28c",
   "metadata": {},
   "outputs": [],
   "source": [
    "print(gromacs_energies)"
   ]
  },
  {
   "cell_type": "code",
   "execution_count": null,
   "id": "0176e44f-1f48-407c-b585-ad1460710320",
   "metadata": {},
   "outputs": [],
   "source": [
    "print(lammps_energies)"
   ]
  },
  {
   "cell_type": "code",
   "execution_count": null,
   "id": "35e93c9b-7643-4742-ae31-d3d80c7ff8cc",
   "metadata": {},
   "outputs": [],
   "source": [
    "pprint(openmm_energies - gromacs_energies)"
   ]
  },
  {
   "cell_type": "code",
   "execution_count": null,
   "id": "ab97cb6b-d0df-4356-a9a0-4ad5378503fd",
   "metadata": {},
   "outputs": [],
   "source": [
    "pprint(openmm_energies - lammps_energies)"
   ]
  }
 ],
 "metadata": {
  "kernelspec": {
   "display_name": "Python 3 (ipykernel)",
   "language": "python",
   "name": "python3"
  },
  "language_info": {
   "codemirror_mode": {
    "name": "ipython",
    "version": 3
   },
   "file_extension": ".py",
   "mimetype": "text/x-python",
   "name": "python",
   "nbconvert_exporter": "python",
   "pygments_lexer": "ipython3",
   "version": "3.9.9"
  }
 },
 "nbformat": 4,
 "nbformat_minor": 5
}
