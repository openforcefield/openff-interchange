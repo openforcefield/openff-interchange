{
 "cells": [
  {
   "cell_type": "code",
   "execution_count": null,
   "metadata": {},
   "outputs": [],
   "source": [
    "import openmm\n",
    "from openff.toolkit.topology import Molecule, Topology\n",
    "from openff.toolkit.typing.engines.smirnoff import ForceField\n",
    "\n",
    "from openff.interchange import Interchange\n",
    "from openff.interchange.components.potentials import Potential\n",
    "from openff.interchange.models import PotentialKey, TopologyKey"
   ]
  },
  {
   "cell_type": "code",
   "execution_count": null,
   "metadata": {},
   "outputs": [],
   "source": [
    "propanol = Molecule.from_smiles(\"CCCO\")\n",
    "propanol.generate_conformers(n_conformers=1)\n",
    "topology = propanol.to_topology()\n",
    "\n",
    "sage = ForceField(\"openff-2.0.0.offxml\")"
   ]
  },
  {
   "cell_type": "code",
   "execution_count": null,
   "metadata": {},
   "outputs": [],
   "source": [
    "interchange = Interchange.from_smirnoff(sage, topology)\n",
    "\n",
    "original_openmm_system = interchange.to_openmm()"
   ]
  },
  {
   "cell_type": "code",
   "execution_count": null,
   "metadata": {},
   "outputs": [],
   "source": [
    "interchange.handlers[\"Bonds\"].slot_map"
   ]
  },
  {
   "cell_type": "code",
   "execution_count": null,
   "metadata": {},
   "outputs": [],
   "source": [
    "for bond in topology.bonds:\n",
    "    if all(atom.atomic_number == 6 for atom in bond.atoms):\n",
    "        atom_indices = tuple(topology.atom_index(atom) for atom in bond.atoms)\n",
    "        top_key = TopologyKey(atom_indices=atom_indices)\n",
    "        pot_key = interchange.handlers[\"Bonds\"].slot_map[top_key]\n",
    "        print(atom_indices, pot_key.__repr__())"
   ]
  },
  {
   "cell_type": "markdown",
   "metadata": {},
   "source": [
    "Notice that the `PotentialKey` associated with each of the C-C bonds - atom indices (0, 1) and (1, 2) - is the same, in this case associated with SMIRKS pattern `'[#6X4:1]-[#6X4:2]'`. This means the same parameters have been applied to each. For the sake of an example, let's consider splitting these parameters into two types (without re-running SMIRKS/SMARTS-based atom-typing). Let's increase the force constant of the C-C bond nearest the O atom by 5% (atom indices (1, 2)). Here we are ignoring whether or not it is scientifically wise to make such a modification.\n",
    "\n",
    "This process will involve\n",
    "1. Creating a new `PotentialKey` to uniquely identify the new parameters\n",
    "2. Createing a new `Potential` to store the new parameters\n",
    "3. Updating the bond handler so that the C-C bond we have selected points to new parameters"
   ]
  },
  {
   "cell_type": "code",
   "execution_count": null,
   "metadata": {},
   "outputs": [],
   "source": [
    "# First, clone the existing C-C bond PotentialKey\n",
    "pot_key_mod = PotentialKey(**pot_key.dict())\n",
    "pot_key_mod.id = \"[#6X4:1]-[#6X4:2]_MODIFIED\""
   ]
  },
  {
   "cell_type": "code",
   "execution_count": null,
   "metadata": {},
   "outputs": [],
   "source": [
    "# Inspect the original and modified keys\n",
    "(pot_key, pot_key_mod)"
   ]
  },
  {
   "cell_type": "code",
   "execution_count": null,
   "metadata": {},
   "outputs": [],
   "source": [
    "# Look up the existing potential on these bonds and modify the k value by 5%\n",
    "pot = interchange.handlers[\"Bonds\"].potentials[pot_key]\n",
    "pot_mod = Potential(**pot.dict())\n",
    "pot_mod.parameters[\"k\"] *= 1.05"
   ]
  },
  {
   "cell_type": "code",
   "execution_count": null,
   "metadata": {},
   "outputs": [],
   "source": [
    "# Inspect the original and modified keys\n",
    "(pot, pot_mod)"
   ]
  },
  {
   "cell_type": "code",
   "execution_count": null,
   "metadata": {
    "tags": []
   },
   "outputs": [],
   "source": [
    "# Update the potential mapping to include the new key and potential key\n",
    "interchange.handlers[\"Bonds\"].potentials.update({pot_key_mod: pot_mod})"
   ]
  },
  {
   "cell_type": "markdown",
   "metadata": {},
   "source": [
    "Now that we have modified versions of the potential key and potential, the last step is to update the mappings so that they are applied to the bond. We previously decided that we want to modify the bond between atoms 1 and 2."
   ]
  },
  {
   "cell_type": "code",
   "execution_count": null,
   "metadata": {},
   "outputs": [],
   "source": [
    "# Create a topology key representing this bond\n",
    "top_key = TopologyKey(atom_indices=(1, 2))"
   ]
  },
  {
   "cell_type": "code",
   "execution_count": null,
   "metadata": {},
   "outputs": [],
   "source": [
    "# This topology key is already in the handler, as it points to an existing bond\n",
    "assert top_key in interchange[\"Bonds\"].slot_map"
   ]
  },
  {
   "cell_type": "markdown",
   "metadata": {},
   "source": [
    "The slot_map is a dictionary mapping topology keys to potential keys, so we can update the mapping of this topology key to point to our new potential key (which points to the new potential we just added)."
   ]
  },
  {
   "cell_type": "code",
   "execution_count": null,
   "metadata": {},
   "outputs": [],
   "source": [
    "interchange.handlers[\"Bonds\"].slot_map[top_key] = pot_key_mod"
   ]
  },
  {
   "cell_type": "code",
   "execution_count": null,
   "metadata": {},
   "outputs": [],
   "source": [
    "interchange.handlers[\"Bonds\"].potentials[pot_key_mod]"
   ]
  },
  {
   "cell_type": "code",
   "execution_count": null,
   "metadata": {},
   "outputs": [],
   "source": [
    "# openff_sys[\"Electrostatics\"].method = \"cutoff\"\n",
    "modified_openmm_system = interchange.to_openmm()"
   ]
  },
  {
   "cell_type": "code",
   "execution_count": null,
   "metadata": {},
   "outputs": [],
   "source": [
    "# Look at the force constant in the original and modified OpenMM exports\n",
    "for force in original_openmm_system.getForces():\n",
    "    if type(force) == openmm.HarmonicBondForce:\n",
    "        for bond_idx in range(force.getNumBonds()):\n",
    "            if force.getBondParameters(bond_idx)[:2] == [1, 2]:\n",
    "                original_k = force.getBondParameters(bond_idx)[3]\n",
    "\n",
    "# Look at the modified force constant in an OpenMM export\n",
    "for force in modified_openmm_system.getForces():\n",
    "    if type(force) == openmm.HarmonicBondForce:\n",
    "        for bond_idx in range(force.getNumBonds()):\n",
    "            if force.getBondParameters(bond_idx)[:2] == [1, 2]:\n",
    "                modified_k = force.getBondParameters(bond_idx)[3]\n",
    "\n",
    "# Check that the modified k is 5% more than the original k\n",
    "assert abs(modified_k / original_k - 1.05) < 1e-12"
   ]
  }
 ],
 "metadata": {
  "kernelspec": {
   "display_name": "Python 3 (ipykernel)",
   "language": "python",
   "name": "python3"
  },
  "language_info": {
   "codemirror_mode": {
    "name": "ipython",
    "version": 3
   },
   "file_extension": ".py",
   "mimetype": "text/x-python",
   "name": "python",
   "nbconvert_exporter": "python",
   "pygments_lexer": "ipython3",
   "version": "3.9.12"
  }
 },
 "nbformat": 4,
 "nbformat_minor": 4
}
