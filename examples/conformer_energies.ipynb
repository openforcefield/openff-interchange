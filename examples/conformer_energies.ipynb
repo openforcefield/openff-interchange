{
 "cells": [
  {
   "cell_type": "code",
   "execution_count": null,
   "metadata": {
    "tags": []
   },
   "outputs": [],
   "source": [
    "import pandas as pd\n",
    "from openff.toolkit.topology import Molecule, Topology\n",
    "from openff.toolkit.typing.engines.smirnoff import ForceField\n",
    "from openff.units import unit\n",
    "\n",
    "from openff.interchange import Interchange\n",
    "from openff.interchange.drivers.gromacs import get_gromacs_energies\n",
    "from openff.interchange.drivers.openmm import _get_openmm_energies, get_openmm_energies"
   ]
  },
  {
   "cell_type": "code",
   "execution_count": null,
   "metadata": {},
   "outputs": [],
   "source": [
    "SMILES = \"c1n(CCO)c(C(F)(F)(F))cc1CNCCl\""
   ]
  },
  {
   "cell_type": "code",
   "execution_count": null,
   "metadata": {},
   "outputs": [],
   "source": [
    "molecule = Molecule.from_smiles(SMILES)\n",
    "molecule.generate_conformers(n_conformers=20, rms_cutoff=0.1 * unit.angstrom),\n",
    "topology = molecule.to_topology()"
   ]
  },
  {
   "cell_type": "code",
   "execution_count": null,
   "metadata": {},
   "outputs": [],
   "source": [
    "parsley = ForceField(\"openff-1.1.0.offxml\")"
   ]
  },
  {
   "cell_type": "code",
   "execution_count": null,
   "metadata": {},
   "outputs": [],
   "source": [
    "openff_sys = Interchange.from_smirnoff(force_field=parsley, topology=topology)\n",
    "openmm_sys = parsley.create_openmm_system(topology)"
   ]
  },
  {
   "cell_type": "code",
   "execution_count": null,
   "metadata": {},
   "outputs": [],
   "source": [
    "openff_sys.positions = molecule.conformers[0]\n",
    "openff_sys.box = [4, 4, 4]"
   ]
  },
  {
   "cell_type": "code",
   "execution_count": null,
   "metadata": {},
   "outputs": [],
   "source": [
    "df = pd.DataFrame()\n",
    "\n",
    "kj_mol = unit.kilojoule / unit.mol\n",
    "\n",
    "for idx, conformer in enumerate(molecule.conformers):\n",
    "    openff_sys.positions = conformer\n",
    "\n",
    "    toolkit = sum(\n",
    "        _get_openmm_energies(\n",
    "            omm_sys=openmm_sys,\n",
    "            box_vectors=openff_sys.box,\n",
    "            positions=openff_sys.positions,\n",
    "            platform=\"Reference\",\n",
    "        ).energies.values()\n",
    "    ).m_as(kj_mol)\n",
    "\n",
    "    omm = sum(get_openmm_energies(openff_sys).energies.values()).m_as(kj_mol)\n",
    "\n",
    "    gmx = sum(get_gromacs_energies(openff_sys).energies.values()).m_as(kj_mol)\n",
    "\n",
    "    df = pd.concat(\n",
    "        [\n",
    "            df,\n",
    "            pd.DataFrame.from_dict(\n",
    "                {\n",
    "                    \"Conformer No.\": [idx],\n",
    "                    \"Toolkit (kJ/mol)\": [round(toolkit, 3)],\n",
    "                    \"Interchange -> OpenMM (kJ/mol)\": [round(omm, 3)],\n",
    "                    \"Interchange -> GROMACS\": [round(gmx, 3)],\n",
    "                }\n",
    "            ),\n",
    "            # ignore_index=True,\n",
    "        ]\n",
    "    )"
   ]
  },
  {
   "cell_type": "code",
   "execution_count": null,
   "metadata": {},
   "outputs": [],
   "source": [
    "df.style.hide(axis=\"index\")"
   ]
  }
 ],
 "metadata": {
  "kernelspec": {
   "display_name": "Python 3 (ipykernel)",
   "language": "python",
   "name": "python3"
  },
  "language_info": {
   "codemirror_mode": {
    "name": "ipython",
    "version": 3
   },
   "file_extension": ".py",
   "mimetype": "text/x-python",
   "name": "python",
   "nbconvert_exporter": "python",
   "pygments_lexer": "ipython3",
   "version": "3.9.12"
  }
 },
 "nbformat": 4,
 "nbformat_minor": 4
}
