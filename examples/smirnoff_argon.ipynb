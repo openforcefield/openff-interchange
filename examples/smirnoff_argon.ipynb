{
 "cells": [
  {
   "cell_type": "code",
   "execution_count": null,
   "metadata": {},
   "outputs": [],
   "source": [
    "import numpy as np\n",
    "from openff.toolkit.topology import Molecule, Topology\n",
    "from openff.toolkit.typing.engines.smirnoff import ForceField\n",
    "\n",
    "from openff.interchange import Interchange\n",
    "from openff.interchange.models import PotentialKey, TopologyKey\n",
    "from openff.interchange.tests import get_test_file_path"
   ]
  },
  {
   "cell_type": "code",
   "execution_count": null,
   "metadata": {},
   "outputs": [],
   "source": [
    "# Load a minimal SMIRNOFF forcefield and Argon topology\n",
    "argon_ff = ForceField(get_test_file_path(\"argon.offxml\"))\n",
    "\n",
    "mol = Molecule.from_smiles(\"[#18]\")\n",
    "mol.generate_conformers(n_conformers=1)\n",
    "\n",
    "argon_top = Topology.from_molecules(10 * [mol])"
   ]
  },
  {
   "cell_type": "code",
   "execution_count": null,
   "metadata": {},
   "outputs": [],
   "source": [
    "# Use a monkey-patched function to parametrize the topology against a force field\n",
    "off_sys = Interchange.from_smirnoff(force_field=argon_ff, topology=argon_top)"
   ]
  },
  {
   "cell_type": "code",
   "execution_count": null,
   "metadata": {},
   "outputs": [],
   "source": [
    "# Look at which ParameterHandler objects from the OpenFF toolkit\n",
    "# have been made into Potentialhandler objects\n",
    "off_sys.handlers.keys()"
   ]
  },
  {
   "cell_type": "code",
   "execution_count": null,
   "metadata": {},
   "outputs": [],
   "source": [
    "# Store this handler to inspect its contents\n",
    "vdw = off_sys.handlers[\"vdW\"]"
   ]
  },
  {
   "cell_type": "code",
   "execution_count": null,
   "metadata": {},
   "outputs": [],
   "source": [
    "# Look at some ~metadata\n",
    "vdw.type, vdw.expression, vdw.independent_variables"
   ]
  },
  {
   "cell_type": "code",
   "execution_count": null,
   "metadata": {},
   "outputs": [],
   "source": [
    "# Return a mapping between atom indices and SMIRKS identifiers\n",
    "vdw.slot_map"
   ]
  },
  {
   "cell_type": "code",
   "execution_count": null,
   "metadata": {},
   "outputs": [],
   "source": [
    "# Return a mapping between SMIRKS identifiers and Potential objects;\n",
    "# Note the de-duplication, resulting from a many-to-few mapping between\n",
    "# atoms in the topology and unique parameters in the force field\n",
    "vdw.potentials"
   ]
  },
  {
   "cell_type": "code",
   "execution_count": null,
   "metadata": {},
   "outputs": [],
   "source": [
    "# Look at this contents of this Potential object\n",
    "potential_key = PotentialKey(id=\"[#18:1]\", associated_handler=\"vdW\")\n",
    "vdw.potentials[potential_key]"
   ]
  },
  {
   "cell_type": "code",
   "execution_count": null,
   "metadata": {},
   "outputs": [],
   "source": [
    "# Further, look at the particular value of one of its parameters\n",
    "vdw.potentials[potential_key].parameters[\"sigma\"]"
   ]
  },
  {
   "cell_type": "code",
   "execution_count": null,
   "metadata": {},
   "outputs": [],
   "source": [
    "# Look up, from the highest-level object, this same data, using the\n",
    "# SMIRKS pattern as a key connecting the topological data to the\n",
    "# parametrized data\n",
    "topology_key = TopologyKey(atom_indices=(0,))\n",
    "off_sys.handlers[\"vdW\"].potentials[\n",
    "    off_sys.handlers[\"vdW\"].slot_map[topology_key]\n",
    "].parameters[\"sigma\"]"
   ]
  }
 ],
 "metadata": {
  "kernelspec": {
   "display_name": "Python 3 (ipykernel)",
   "language": "python",
   "name": "python3"
  },
  "language_info": {
   "codemirror_mode": {
    "name": "ipython",
    "version": 3
   },
   "file_extension": ".py",
   "mimetype": "text/x-python",
   "name": "python",
   "nbconvert_exporter": "python",
   "pygments_lexer": "ipython3",
   "version": "3.9.9"
  }
 },
 "nbformat": 4,
 "nbformat_minor": 4
}
