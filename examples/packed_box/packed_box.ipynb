{
 "cells": [
  {
   "cell_type": "markdown",
   "id": "f6b260b4",
   "metadata": {},
   "source": [
    "# Generating and Parametrizing multi-component systems\n",
    "\n",
    "The OpenFF Toolkit provides some facilities to prepare topologies from structure files containing multiple molecules, but in other cases external tools are better-suited for the task. In this example, we will use a Python wrapper around the external tool PACKMOL to prepare a system composed of a mixture of organic species."
   ]
  },
  {
   "cell_type": "code",
   "execution_count": null,
   "id": "40714e5a-2dce-44ca-a9b9-9c9abee01caa",
   "metadata": {},
   "outputs": [],
   "source": [
    "import nglview\n",
    "from openff.toolkit import ForceField, Molecule, Topology\n",
    "from openff.units import unit\n",
    "\n",
    "from openff.interchange import Interchange\n",
    "from openff.interchange.components._packmol import UNIT_CUBE, pack_box\n",
    "from openff.interchange.drivers import get_summary_data"
   ]
  },
  {
   "cell_type": "markdown",
   "id": "48705911",
   "metadata": {},
   "source": [
    "## Construct the Topology\n",
    "\n",
    "The Toolkit provides a class called `Topology` which stores a collection of molecules. In fact, it can be thought of as a list of `Molecule` objects. It is similar to an `Interchange` in that it stores a list of molecules along with positions, box vectors and some other system information, but unlike `Interchange` a topology is not associated with any force field or parameters.\n",
    "\n",
    "There are many ways to create a `Topology`, include:\n",
    "* Create one from a (literal) list of molecules via `Topology.from_molecules`\n",
    "* Convert an `openmm.app.Topology` through `Topology.from_openmm`\n",
    "* Load a multi-component PDB file (modulo some limitations) with `Topology.from_pdb`\n",
    "\n",
    "In this example, we'll use a convenience function provided by `openff.interchange` that takes a list of `Molecule` objects and a handful of other options and uses PACKMOL to put everything in a simulation box as a `Topology` object."
   ]
  },
  {
   "cell_type": "markdown",
   "id": "86d481e0",
   "metadata": {},
   "source": [
    "There are many ways to create `Molecule` objects. Here we're just using some common organic solvents, so loading them in through SMILES patterns is sufficient."
   ]
  },
  {
   "cell_type": "code",
   "execution_count": null,
   "id": "c8b95182-dd20-43be-9c3a-36e2440022ca",
   "metadata": {},
   "outputs": [],
   "source": [
    "molecules = [\n",
    "    Molecule.from_smiles(smi)\n",
    "    for smi in [\"ClC(Cl)(Cl)Cl\", \"CC1=CC=CC=C1\", \"CS(=O)C\", \"CCCCCCO\"]\n",
    "]"
   ]
  },
  {
   "cell_type": "markdown",
   "id": "123bf08d",
   "metadata": {},
   "source": [
    "The function `pack_box` takes a number of different arguments (see its docstring for more) covering a number of different use cases. Let's just pack it with 200 copies of each molecule at density that's a little lower than what the the mixture might be."
   ]
  },
  {
   "cell_type": "code",
   "execution_count": null,
   "id": "9d4b13e6",
   "metadata": {},
   "outputs": [],
   "source": [
    "topology = pack_box(\n",
    "    molecules=molecules,\n",
    "    number_of_copies=4 * [200],\n",
    "    mass_density=850 * unit.kilogram / unit.meter**3,\n",
    "    box_shape=UNIT_CUBE,\n",
    ")"
   ]
  },
  {
   "cell_type": "markdown",
   "id": "890a45df",
   "metadata": {},
   "source": [
    "This `Topology` object contains copies of each molecule, their positions in the packed box, and the box vectors specifying its periodicity. Let's have a look!"
   ]
  },
  {
   "cell_type": "code",
   "execution_count": null,
   "id": "0e483f24",
   "metadata": {},
   "outputs": [],
   "source": [
    "topology.to_file(\"system.pdb\")\n",
    "nglview.show_structure_file(\"system.pdb\")"
   ]
  },
  {
   "cell_type": "markdown",
   "id": "f2f5a50f",
   "metadata": {},
   "source": [
    "We can get the positions as an array from the PDB file object:"
   ]
  },
  {
   "cell_type": "markdown",
   "id": "bdd47449",
   "metadata": {},
   "source": [
    "## Parametrize with Interchange\n",
    "\n",
    "Now that we have a topology, we can load a force field and build our `Interchange`!"
   ]
  },
  {
   "cell_type": "code",
   "execution_count": null,
   "id": "e7437723-5c17-4dc7-ad9b-cd98ad3ae6fd",
   "metadata": {},
   "outputs": [],
   "source": [
    "force_field = ForceField(\"openff_unconstrained-2.1.0.offxml\")\n",
    "\n",
    "interchange = Interchange.from_smirnoff(force_field=force_field, topology=topology)"
   ]
  },
  {
   "cell_type": "markdown",
   "id": "fbb1a2ae",
   "metadata": {},
   "source": [
    "We can visualize it (though, since we can't see the stored physics parameters, it'll look the same):"
   ]
  },
  {
   "cell_type": "code",
   "execution_count": null,
   "id": "4b5a1c40",
   "metadata": {},
   "outputs": [],
   "source": [
    "interchange.visualize(\"nglview\")"
   ]
  },
  {
   "cell_type": "markdown",
   "id": "f8c03ba6",
   "metadata": {},
   "source": [
    "And we can calculate and compare energies with different MD engines! (The LAMMPS exporter isn't optimized yet for large systems, so we're only looking at OpenMM, GROMACS, and Amber.)"
   ]
  },
  {
   "cell_type": "code",
   "execution_count": null,
   "id": "6b49e507-f19c-4945-bd7b-cc722e6dc03d",
   "metadata": {},
   "outputs": [],
   "source": [
    "get_summary_data(interchange, _engines=[\"OpenMM\", \"GROMACS\", \"Amber\"])"
   ]
  }
 ],
 "metadata": {
  "category": "parametrization_evaluation",
  "kernelspec": {
   "display_name": "Python 3 (ipykernel)",
   "language": "python",
   "name": "python3"
  },
  "language_info": {
   "codemirror_mode": {
    "name": "ipython",
    "version": 3
   },
   "file_extension": ".py",
   "mimetype": "text/x-python",
   "name": "python",
   "nbconvert_exporter": "python",
   "pygments_lexer": "ipython3",
   "version": "3.11.4"
  }
 },
 "nbformat": 4,
 "nbformat_minor": 5
}
