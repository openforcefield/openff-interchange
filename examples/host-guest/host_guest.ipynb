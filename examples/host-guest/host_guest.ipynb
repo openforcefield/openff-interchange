{
 "cells": [
  {
   "cell_type": "markdown",
   "id": "0",
   "metadata": {
    "tags": []
   },
   "source": [
    "### Host-guest systems\n",
    "\n",
    "This is a refresh of [a notebook](https://github.com/openforcefield/openff-toolkit/blob/master/examples/deprecated/host_guest_simulation/smirnoff_host_guest.ipynb) written by David Mobley with the following modifications:\n",
    "* A pre-docked guest is used `docked_guest.mol2` was saved and converted to `guest.sdf`)\n",
    "* Mol2 files converted to SDF (`OA.mol2` was converted to `host.sdf`)\n",
    "\n",
    "In this notebook, a prepared host-guest complex is loaded "
   ]
  },
  {
   "cell_type": "code",
   "execution_count": null,
   "id": "1",
   "metadata": {},
   "outputs": [],
   "source": [
    "from openff.toolkit import ForceField, Molecule, Topology"
   ]
  },
  {
   "cell_type": "markdown",
   "id": "2",
   "metadata": {},
   "source": [
    "Just like [any other molecule](https://docs.openforcefield.org/projects/toolkit/en/stable/users/molecule_cookbook.html), we begin by loading representations (in this case, files on disk) into `Molecule` objects."
   ]
  },
  {
   "cell_type": "code",
   "execution_count": null,
   "id": "3",
   "metadata": {},
   "outputs": [],
   "source": [
    "guest = Molecule.from_file(\"guest.sdf\")\n",
    "host = Molecule.from_file(\"host.sdf\")"
   ]
  },
  {
   "cell_type": "markdown",
   "id": "4",
   "metadata": {},
   "source": [
    "Again, like many other workflows, we \"combine\" multiple `Molecule`s into a single `Topology` object. We can also visualize the result to ensure the guest looks reasonably docked into the host. (Use your cursor to move the complex around.)"
   ]
  },
  {
   "cell_type": "code",
   "execution_count": null,
   "id": "5",
   "metadata": {},
   "outputs": [],
   "source": [
    "docked_topology = Topology.from_molecules([guest, host])\n",
    "docked_topology.visualize()"
   ]
  },
  {
   "cell_type": "markdown",
   "id": "6",
   "metadata": {},
   "source": [
    "We can safely use Sage or a similar small molecule force field to parameterize the guest. But the host is large (128 heavy atoms, 184 atoms total) and charge assignment using AM1-BCC may take tens of minutes to hours. We can instead use [OpenFF NAGL](https://github.com/openforcefield/openff-nagl), which uses a graph-convolutional neural network (GCNN or GNN) to mimic AM1-BCC partial charges (specifically the ELF10 variant). Not counting the time it takes to import the Python module and load the model, charge assignment for the host should take on the order of hundreds of milliseconds. (Larger polymers may take slightly longer but the scaling is sub-linear with number of atoms!)\n",
    "\n",
    "For more on GCNNs, see [Espaloma](https://github.com/choderalab/espaloma) and its associated paper."
   ]
  },
  {
   "cell_type": "code",
   "execution_count": null,
   "id": "7",
   "metadata": {},
   "outputs": [],
   "source": [
    "from openff.toolkit.utils.nagl_wrapper import NAGLToolkitWrapper\n",
    "\n",
    "NAGLToolkitWrapper().assign_partial_charges(\n",
    "    molecule=host,\n",
    "    partial_charge_method=\"openff-gnn-am1bcc-0.1.0-rc.1.pt\",\n",
    ")\n",
    "\n",
    "host.partial_charges.round(3)"
   ]
  },
  {
   "cell_type": "markdown",
   "id": "8",
   "metadata": {},
   "source": [
    "Now that we have partial charges for the host, we can wire it through parameterization using the `charge_from_molecules` argument. Interchange will recognize these charges and not attempt running AM1-BCC for the host, though it will use to assign charges to the guest molecule."
   ]
  },
  {
   "cell_type": "code",
   "execution_count": null,
   "id": "9",
   "metadata": {},
   "outputs": [],
   "source": [
    "sage = ForceField(\"openff-2.1.0.offxml\")\n",
    "\n",
    "out = sage.create_interchange(topology=docked_topology, charge_from_molecules=[host])"
   ]
  },
  {
   "cell_type": "markdown",
   "id": "10",
   "metadata": {},
   "source": [
    "Now that the `Interchange` object is created, you can run simulations in [a number of engines](https://docs.openforcefield.org/projects/interchange/en/stable/using/output.html). Here we'll run a quick energy minimization and then a thirty-second OpenMM simulation. The result is a trajectory, viewable with NGLview, that shows a few tens or hundreds of frames of this host-guest complex dancing around in vacuo.\n",
    "\n",
    "None of this workflow required OpenMM until now - you can swap these steps out for analogous operations in GROMACS, Amber, or LAMMPS!"
   ]
  },
  {
   "cell_type": "code",
   "execution_count": null,
   "id": "11",
   "metadata": {},
   "outputs": [],
   "source": [
    "import openmm\n",
    "import openmm.app\n",
    "import openmm.unit\n",
    "\n",
    "simulation = out.to_openmm_simulation(\n",
    "    openmm.LangevinMiddleIntegrator(\n",
    "        300.0 * openmm.unit.kelvin,\n",
    "        1.0 / openmm.unit.picosecond,\n",
    "        2.0 * openmm.unit.femtosecond,\n",
    "    )\n",
    ")\n",
    "\n",
    "simulation.minimizeEnergy()\n",
    "\n",
    "dcd_reporter = openmm.app.DCDReporter(\"trajectory.dcd\", 1000)\n",
    "simulation.reporters.append(dcd_reporter)\n",
    "\n",
    "simulation.context.setVelocitiesToTemperature(300.0 * openmm.unit.kelvin)"
   ]
  },
  {
   "cell_type": "code",
   "execution_count": null,
   "id": "12",
   "metadata": {},
   "outputs": [],
   "source": [
    "simulation.runForClockTime(0.5 * openmm.unit.minute)"
   ]
  },
  {
   "cell_type": "code",
   "execution_count": null,
   "id": "13",
   "metadata": {},
   "outputs": [],
   "source": [
    "import mdtraj\n",
    "import nglview\n",
    "\n",
    "nglview.show_mdtraj(\n",
    "    mdtraj.load(\n",
    "        \"trajectory.dcd\",\n",
    "        top=mdtraj.Topology.from_openmm(\n",
    "            out.to_openmm_topology(),\n",
    "        ),\n",
    "    )\n",
    ")"
   ]
  }
 ],
 "metadata": {
  "kernelspec": {
   "display_name": "Python 3 (ipykernel)",
   "language": "python",
   "name": "python3"
  },
  "language_info": {
   "codemirror_mode": {
    "name": "ipython",
    "version": 3
   },
   "file_extension": ".py",
   "mimetype": "text/x-python",
   "name": "python",
   "nbconvert_exporter": "python",
   "pygments_lexer": "ipython3",
   "version": "3.11.7"
  }
 },
 "nbformat": 4,
 "nbformat_minor": 5
}
