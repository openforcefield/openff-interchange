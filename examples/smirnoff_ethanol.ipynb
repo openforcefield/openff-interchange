{
 "cells": [
  {
   "cell_type": "code",
   "execution_count": null,
   "metadata": {},
   "outputs": [],
   "source": [
    "import numpy as np\n",
    "\n",
    "from openff.toolkit.topology import Molecule, Topology\n",
    "\n",
    "from openff.system.stubs import ForceField\n",
    "from openff.system.utils import get_test_file_path"
   ]
  },
  {
   "cell_type": "code",
   "execution_count": null,
   "metadata": {},
   "outputs": [],
   "source": [
    "# Load in a mainline OpenFF forcefield and construct a minimal ethanol topology\n",
    "parsley = ForceField(\"openff-1.0.0.offxml\")\n",
    "\n",
    "top = Topology.from_molecules(2 * [Molecule.from_smiles(\"CCO\")])"
   ]
  },
  {
   "cell_type": "code",
   "execution_count": null,
   "metadata": {},
   "outputs": [],
   "source": [
    "# Use a monkey-patched function to parametrize the topology against a force field\n",
    "sys_out = parsley.create_openff_system(top)"
   ]
  },
  {
   "cell_type": "code",
   "execution_count": null,
   "metadata": {},
   "outputs": [],
   "source": [
    "# Look at which ParameterHandler objects from the OpenFF toolkit\n",
    "# have been made into Potentialhandler objects\n",
    "sys_out.handlers.keys()"
   ]
  },
  {
   "cell_type": "code",
   "execution_count": null,
   "metadata": {},
   "outputs": [],
   "source": [
    "# Store the bond handler to inspect its contents\n",
    "bonds = sys_out.handlers[\"Bonds\"]"
   ]
  },
  {
   "cell_type": "code",
   "execution_count": null,
   "metadata": {},
   "outputs": [],
   "source": [
    "# Look at some ~metadata\n",
    "bonds.name, bonds.expression, bonds.independent_variables"
   ]
  },
  {
   "cell_type": "code",
   "execution_count": null,
   "metadata": {},
   "outputs": [],
   "source": [
    "# Return a mapping between atom indices and SMIRKS identifiers\n",
    "bonds.slot_map"
   ]
  },
  {
   "cell_type": "code",
   "execution_count": null,
   "metadata": {},
   "outputs": [],
   "source": [
    "# Return a mapping between SMIRKS identifiers and Potential objects;\n",
    "# Note the de-duplication, resulting from a many-to-few mapping between\n",
    "# bonds in the topology and unique parameters in the force field\n",
    "bonds.potentials"
   ]
  },
  {
   "cell_type": "code",
   "execution_count": null,
   "metadata": {},
   "outputs": [],
   "source": [
    "# Look at this contents of one of the Potential objects\n",
    "bonds.potentials[\"[#6X4:1]-[#1:2]\"]"
   ]
  },
  {
   "cell_type": "code",
   "execution_count": null,
   "metadata": {},
   "outputs": [],
   "source": [
    "# Further, look at the particular value of one of its parameters\n",
    "bonds.potentials[\"[#6X4:1]-[#1:2]\"].parameters[\"k\"]"
   ]
  },
  {
   "cell_type": "code",
   "execution_count": null,
   "metadata": {},
   "outputs": [],
   "source": [
    "# Look up, from the highest-level object, this same data, using the\n",
    "# SMIRKS pattern as a key connecting the topological data to the\n",
    "# parametrized data\n",
    "sys_out.handlers[\"Bonds\"].potentials[\n",
    "    sys_out.handlers[\"Bonds\"].slot_map[\"(1, 7)\"]\n",
    "].parameters[\"k\"]"
   ]
  }
 ],
 "metadata": {
  "kernelspec": {
   "display_name": "Python 3",
   "language": "python",
   "name": "python3"
  },
  "language_info": {
   "codemirror_mode": {
    "name": "ipython",
    "version": 3
   },
   "file_extension": ".py",
   "mimetype": "text/x-python",
   "name": "python",
   "nbconvert_exporter": "python",
   "pygments_lexer": "ipython3",
   "version": "3.8.6"
  }
 },
 "nbformat": 4,
 "nbformat_minor": 4
}
