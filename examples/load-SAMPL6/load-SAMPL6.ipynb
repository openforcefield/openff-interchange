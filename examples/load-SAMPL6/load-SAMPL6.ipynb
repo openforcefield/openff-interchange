{
 "cells": [
  {
   "cell_type": "markdown",
   "metadata": {},
   "source": [
    "# Load a prepared SAMPL6 system\n"
   ]
  },
  {
   "cell_type": "markdown",
   "metadata": {},
   "source": [
    "This notebook downloads a SAMPL6 challenge system as an XML-serialized OpenMM System, creates an `Interchange` from it, and then computes the energy of the starting coordinates with GROMACS."
   ]
  },
  {
   "cell_type": "code",
   "execution_count": null,
   "metadata": {},
   "outputs": [],
   "source": [
    "from openff.interchange import Interchange\n",
    "from openff.interchange.drivers import get_summary_data"
   ]
  },
  {
   "cell_type": "code",
   "execution_count": null,
   "metadata": {},
   "outputs": [],
   "source": [
    "!wget -O complex.pdb https://raw.githubusercontent.com/samplchallenges/SAMPL6/c661d3985af7fa0ba8c64a1774cfb2363cd31bda/host_guest/SAMPLing/CB8-G3-3/PDB/complex.pdb\n",
    "!wget -O complex.xml https://raw.githubusercontent.com/samplchallenges/SAMPL6/c661d3985af7fa0ba8c64a1774cfb2363cd31bda/host_guest/SAMPLing/CB8-G3-3/OPENMM/complex.xml"
   ]
  },
  {
   "cell_type": "code",
   "execution_count": null,
   "metadata": {},
   "outputs": [],
   "source": [
    "import openmm\n",
    "import openmm.app\n",
    "\n",
    "pdb_object = openmm.app.PDBFile(\"complex.pdb\")\n",
    "\n",
    "topology = pdb_object.topology\n",
    "positions = pdb_object.positions\n",
    "\n",
    "system = openmm.XmlSerializer.deserialize(open(\"complex.xml\").read())\n",
    "\n",
    "# Remove force objects that are not stored in Interchange and do not affect the energy\n",
    "for force_index in range(system.getNumForces())[::-1]:\n",
    "    if isinstance(\n",
    "        system.getForce(force_index),\n",
    "        (\n",
    "            openmm.MonteCarloBarostat,\n",
    "            openmm.CMMotionRemover,\n",
    "        ),\n",
    "    ):\n",
    "        system.removeForce(force_index)"
   ]
  },
  {
   "cell_type": "code",
   "execution_count": null,
   "metadata": {},
   "outputs": [],
   "source": [
    "imported = Interchange.from_openmm(\n",
    "    system=system,\n",
    "    topology=pdb_object.topology,\n",
    "    positions=pdb_object.getPositions(),\n",
    ")\n",
    "\n",
    "# Residue numbers in this PDB start at 0, but GROMACS requires that\n",
    "# residue numbers start at 1, so modify them in-place\n",
    "for atom in imported.topology.atoms:\n",
    "    atom.metadata[\"residue_number\"] = str(int(atom.metadata[\"residue_number\"]) + 1)"
   ]
  },
  {
   "cell_type": "code",
   "execution_count": null,
   "metadata": {},
   "outputs": [],
   "source": [
    "# Interchange.to_amber is not yet optimized for biopolymer systems\n",
    "summary = get_summary_data(imported, _engines=[\"GROMACS\", \"OpenMM\"])\n",
    "summary"
   ]
  }
 ],
 "metadata": {
  "kernelspec": {
   "display_name": "Python 3",
   "language": "python",
   "name": "python3"
  },
  "language_info": {
   "codemirror_mode": {
    "name": "ipython",
    "version": 3
   },
   "file_extension": ".py",
   "mimetype": "text/x-python",
   "name": "python",
   "nbconvert_exporter": "python",
   "pygments_lexer": "ipython3",
   "version": "3.12.10"
  }
 },
 "nbformat": 4,
 "nbformat_minor": 4
}
