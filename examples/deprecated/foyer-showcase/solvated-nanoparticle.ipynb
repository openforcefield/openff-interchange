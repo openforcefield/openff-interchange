{
 "cells": [
  {
   "cell_type": "code",
   "execution_count": null,
   "id": "0",
   "metadata": {},
   "outputs": [],
   "source": [
    "import mbuild as mb\n",
    "import mdtraj as md\n",
    "import nglview\n",
    "from foyer.forcefield import Forcefield as FoyerForcefield\n",
    "from openff.toolkit.topology import Molecule, Topology\n",
    "from openff.toolkit.typing.engines.smirnoff.forcefield import ForceField\n",
    "from openff.units import unit\n",
    "\n",
    "from openff.interchange.components.interchange import Interchange\n",
    "from openff.interchange.components.mbuild import offmol_to_compound\n",
    "from openff.interchange.components.mdtraj import _combine_topologies, _OFFBioTop\n",
    "from openff.interchange.drivers import get_openmm_energies"
   ]
  },
  {
   "cell_type": "code",
   "execution_count": null,
   "id": "1",
   "metadata": {},
   "outputs": [],
   "source": [
    "nanoparticle = mb.load(\"silica_nanoparticle.json\")"
   ]
  },
  {
   "cell_type": "code",
   "execution_count": null,
   "id": "2",
   "metadata": {},
   "outputs": [],
   "source": [
    "oplsaa_silica = FoyerForcefield(\"oplsaa_switchable.xml\")"
   ]
  },
  {
   "cell_type": "code",
   "execution_count": null,
   "id": "3",
   "metadata": {},
   "outputs": [],
   "source": [
    "topology = _OFFBioTop(mdtop=md.Topology.from_openmm(nanoparticle.to_parmed().topology))"
   ]
  },
  {
   "cell_type": "code",
   "execution_count": null,
   "id": "4",
   "metadata": {},
   "outputs": [],
   "source": [
    "nanoparticle_interchange = Interchange.from_foyer(\n",
    "    topology=topology,\n",
    "    force_field=oplsaa_silica,\n",
    ")"
   ]
  },
  {
   "cell_type": "code",
   "execution_count": null,
   "id": "5",
   "metadata": {},
   "outputs": [],
   "source": [
    "n_solvent = 800\n",
    "\n",
    "solvent = Molecule.from_smiles(\"C1CCOC1\")\n",
    "solvent.generate_conformers(n_conformers=1)"
   ]
  },
  {
   "cell_type": "code",
   "execution_count": null,
   "id": "6",
   "metadata": {},
   "outputs": [],
   "source": [
    "sage = ForceField(\"openff_unconstrained-2.0.0.offxml\")"
   ]
  },
  {
   "cell_type": "code",
   "execution_count": null,
   "id": "7",
   "metadata": {},
   "outputs": [],
   "source": [
    "solvent_interchange = Interchange.from_smirnoff(\n",
    "    sage,\n",
    "    _OFFBioTop(\n",
    "        mdtop=md.Topology.from_openmm(\n",
    "            Topology.from_molecules(n_solvent * [solvent]).to_openmm()\n",
    "        )\n",
    "    ),\n",
    ")"
   ]
  },
  {
   "cell_type": "code",
   "execution_count": null,
   "id": "8",
   "metadata": {},
   "outputs": [],
   "source": [
    "combined = solvent_interchange + nanoparticle_interchange"
   ]
  },
  {
   "cell_type": "code",
   "execution_count": null,
   "id": "9",
   "metadata": {},
   "outputs": [],
   "source": [
    "thf_compound = offmol_to_compound(solvent)"
   ]
  },
  {
   "cell_type": "code",
   "execution_count": null,
   "id": "10",
   "metadata": {},
   "outputs": [],
   "source": [
    "solvated_compound = mb.packing.solvate(\n",
    "    solute=nanoparticle, solvent=thf_compound, n_solvent=n_solvent, box=mb.Box(3 * [8])\n",
    ")"
   ]
  },
  {
   "cell_type": "code",
   "execution_count": null,
   "id": "11",
   "metadata": {},
   "outputs": [],
   "source": [
    "combined.topology = _combine_topologies(\n",
    "    solvent_interchange.topology,\n",
    "    nanoparticle_interchange.topology,\n",
    ")\n",
    "combined.positions = solvated_compound.xyz * unit.nanometer\n",
    "combined.box = 3 * [8] * unit.nanometer"
   ]
  },
  {
   "cell_type": "code",
   "execution_count": null,
   "id": "12",
   "metadata": {},
   "outputs": [],
   "source": [
    "combined.to_pdb(\"out.pdb\")\n",
    "view = nglview.show_mdtraj(md.load(\"out.pdb\"))\n",
    "view.clear_representations()\n",
    "view.add_representation(\n",
    "    \"spacefill\", selection=[*range(combined.topology.mdtop.n_atoms)]\n",
    ")\n",
    "view"
   ]
  },
  {
   "cell_type": "code",
   "execution_count": null,
   "id": "13",
   "metadata": {},
   "outputs": [],
   "source": [
    "get_openmm_energies(combined, combine_nonbonded_forces=True)"
   ]
  }
 ],
 "metadata": {
  "kernelspec": {
   "display_name": "Python 3 (ipykernel)",
   "language": "python",
   "name": "python3"
  },
  "language_info": {
   "codemirror_mode": {
    "name": "ipython",
    "version": 3
   },
   "file_extension": ".py",
   "mimetype": "text/x-python",
   "name": "python",
   "nbconvert_exporter": "python",
   "pygments_lexer": "ipython3",
   "version": "3.9.9"
  }
 },
 "nbformat": 4,
 "nbformat_minor": 5
}
