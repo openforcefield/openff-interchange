{
 "cells": [
  {
   "cell_type": "markdown",
   "metadata": {},
   "source": [
    "# Splitting parameters in Interchange\n",
    "\n",
    "<details>\n",
    "    <summary><small>▼ Click here for dependency installation instructions</small></summary>\n",
    "    The simplest way to install dependencies is to use the Interchange examples environment. From the root of the cloned openff-interchange repository:\n",
    "    \n",
    "    conda env create --name interchange-examples --file devtools/conda-envs/examples_env.yaml\n",
    "    conda activate interchange-examples\n",
    "    pip install -e .\n",
    "    cd examples/parameter_splitting\n",
    "    jupyter notebook parameter_splitting.ipynb\n",
    "    \n",
    "</details>\n",
    "\n",
    "This example explains splitting a single parameter applied to two different parts of a topology into two separate parameters."
   ]
  },
  {
   "cell_type": "code",
   "execution_count": null,
   "metadata": {},
   "outputs": [],
   "source": [
    "import openmm\n",
    "from openff.toolkit import ForceField, Molecule\n",
    "\n",
    "from openff.interchange import Interchange\n",
    "from openff.interchange.components.potentials import Potential\n",
    "from openff.interchange.models import PotentialKey, TopologyKey"
   ]
  },
  {
   "cell_type": "markdown",
   "metadata": {},
   "source": [
    "We need a molecule that has two parameters that are the same in Sage, but could reasonably be different. We'll pick the two Carbon-Carbon bonds in propanol. Let's set up our Interchange, store a copy of the original as an OpenMM system, and make sure we know what propanol looks like:"
   ]
  },
  {
   "cell_type": "code",
   "execution_count": null,
   "metadata": {},
   "outputs": [],
   "source": [
    "propanol = Molecule.from_smiles(\"CCCO\")\n",
    "propanol.generate_conformers(n_conformers=1)\n",
    "\n",
    "sage = ForceField(\"openff-2.0.0.offxml\")\n",
    "\n",
    "interchange = Interchange.from_smirnoff(sage, topology=[propanol])\n",
    "\n",
    "original_openmm_system = interchange.to_openmm()\n",
    "\n",
    "propanol.visualize(backend=\"rdkit\")"
   ]
  },
  {
   "cell_type": "markdown",
   "metadata": {},
   "source": [
    "Interchange stores parameters in `PotentialHandler` objects. A potential handler maps atom indices to parameters via a `PotentialKey`, which identifies the parameters in the original force field (see [Tweaking and Inspecting Parameters]). We can see the atom indices of all the bonds and the corresponding potential keys by inspecting the `key_map` attribute of the bonds potential handler:\n",
    "\n",
    "[Tweaking and Inspecting Parameters]: https://openff-interchange.readthedocs.io/en/stable/using/handlers.html"
   ]
  },
  {
   "cell_type": "code",
   "execution_count": null,
   "metadata": {},
   "outputs": [],
   "source": [
    "interchange.handlers[\"Bonds\"].key_map"
   ]
  },
  {
   "cell_type": "markdown",
   "metadata": {},
   "source": [
    "By iterating over the topology, we can pick out the C-C bonds. We'll need the potential key they both use, so let's give it a name:"
   ]
  },
  {
   "cell_type": "code",
   "execution_count": null,
   "metadata": {},
   "outputs": [],
   "source": [
    "for bond in interchange.topology.bonds:\n",
    "    if all(atom.atomic_number == 6 for atom in bond.atoms):\n",
    "        atom_indices = tuple(\n",
    "            interchange.topology.atom_index(atom) for atom in bond.atoms\n",
    "        )\n",
    "        top_key = TopologyKey(atom_indices=atom_indices)\n",
    "        pot_key = interchange.handlers[\"Bonds\"].key_map[top_key]\n",
    "        print(atom_indices, pot_key.__repr__())"
   ]
  },
  {
   "cell_type": "markdown",
   "metadata": {},
   "source": [
    "Notice that the `PotentialKey` associated with each of the C-C bonds - atom indices (0, 1) and (1, 2) - is the same, in this case associated with SMIRKS pattern `'[#6X4:1]-[#6X4:2]'`. This means the same parameters have been applied to each. For the sake of this example, let's consider splitting these parameters into two types without re-running SMIRKS/SMARTS-based atom-typing. Let's increase the force constant of the C-C bond nearest the O atom by 5% (atom indices (1, 2)). This is scientifically unmotivated; randomly changing a single force constant will not (usually) improve a force field."
   ]
  },
  {
   "cell_type": "markdown",
   "metadata": {},
   "source": [
    "## Creating a new potential"
   ]
  },
  {
   "cell_type": "markdown",
   "metadata": {},
   "source": [
    "We'll start by cloning the existing C-C bond `PotentialKey`. The new ID can be anything as long as its unique, so let's choose something that makes the parameter's heritage clear without confusing ourselves with something that looks like a SMIRKS code:"
   ]
  },
  {
   "cell_type": "code",
   "execution_count": null,
   "metadata": {},
   "outputs": [],
   "source": [
    "pot_key_mod = PotentialKey(**pot_key.dict())\n",
    "pot_key_mod.id = \"[#6X4:1]-[#6X4:2]_MODIFIED\"\n",
    "\n",
    "(pot_key, pot_key_mod)"
   ]
  },
  {
   "cell_type": "markdown",
   "metadata": {},
   "source": [
    "Looks good! Now we need to do the same thing with the parameters themselves. We can get the potential out by indexing with the original `PontentialKey`, copy it, and then adjust it's force constant $k$:"
   ]
  },
  {
   "cell_type": "code",
   "execution_count": null,
   "metadata": {},
   "outputs": [],
   "source": [
    "pot = interchange.handlers[\"Bonds\"].potentials[pot_key]\n",
    "pot_mod = Potential(**pot.dict())\n",
    "pot_mod.parameters[\"k\"] *= 1.05\n",
    "\n",
    "(pot, pot_mod)"
   ]
  },
  {
   "cell_type": "markdown",
   "metadata": {},
   "source": [
    "Perfect. Now we add the new potential to the handler. This won't apply it anywhere in the topology, but it'll give us something to apply. The `.potentials` attribute is just a regular Python `dict` mapping potential keys to potentials, so we can use the regular Python `dict.update()` method with our modified key and potential:"
   ]
  },
  {
   "cell_type": "code",
   "execution_count": null,
   "metadata": {
    "tags": []
   },
   "outputs": [],
   "source": [
    "interchange.handlers[\"Bonds\"].potentials.update({pot_key_mod: pot_mod})"
   ]
  },
  {
   "cell_type": "markdown",
   "metadata": {},
   "source": [
    "The last step is to apply it to the topology somewhere. Interchange identifies places in the topology by tuples of atom indices. We already decided that we want to apply our new potential to the bond between atoms 1 and 2, so we define a `TopologyKey` to that effect and check that the bond already exists (and is what we expect):"
   ]
  },
  {
   "cell_type": "code",
   "execution_count": null,
   "metadata": {},
   "outputs": [],
   "source": [
    "top_key = TopologyKey(atom_indices=(1, 2))\n",
    "\n",
    "assert top_key in interchange[\"Bonds\"].key_map\n",
    "\n",
    "interchange[\"Bonds\"].key_map[top_key]"
   ]
  },
  {
   "cell_type": "markdown",
   "metadata": {},
   "source": [
    "The `key_map` attribute is another regular `dict` that maps a `TopologyKey` to a `PotentialKey`. Connecting the topology key (atom indices) to a potential key goes exactly how you'd expect:"
   ]
  },
  {
   "cell_type": "code",
   "execution_count": null,
   "metadata": {},
   "outputs": [],
   "source": [
    "interchange.handlers[\"Bonds\"].key_map[top_key] = pot_key_mod"
   ]
  },
  {
   "cell_type": "markdown",
   "metadata": {},
   "source": [
    "## Testing our new parameter"
   ]
  },
  {
   "cell_type": "markdown",
   "metadata": {},
   "source": [
    "To prove that we've done what we expected, let's export to OpenMM and use it's machinery to compare the force constants."
   ]
  },
  {
   "cell_type": "code",
   "execution_count": null,
   "metadata": {},
   "outputs": [],
   "source": [
    "# Export to OpenMM\n",
    "modified_openmm_system = interchange.to_openmm()\n",
    "\n",
    "# Define the atom indices we care about\n",
    "i = 1\n",
    "j = 2\n",
    "\n",
    "# Get the original exported k value\n",
    "for force in original_openmm_system.getForces():\n",
    "    if type(force) == openmm.HarmonicBondForce:\n",
    "        for bond_idx in range(force.getNumBonds()):\n",
    "            if force.getBondParameters(bond_idx)[:2] == [i, j]:\n",
    "                original_k = force.getBondParameters(bond_idx)[3]\n",
    "                print(\n",
    "                    f\"K in the original system between atoms {i} and {j} is\", original_k\n",
    "                )\n",
    "\n",
    "# Get the exported k value in the modified system\n",
    "for force in modified_openmm_system.getForces():\n",
    "    if type(force) == openmm.HarmonicBondForce:\n",
    "        for bond_idx in range(force.getNumBonds()):\n",
    "            if force.getBondParameters(bond_idx)[:2] == [i, j]:\n",
    "                modified_k = force.getBondParameters(bond_idx)[3]\n",
    "                print(\n",
    "                    f\"K in the modified system between atoms {i} and {j} is\", modified_k\n",
    "                )\n",
    "\n",
    "# Check that the modified k is 5% more than the original k\n",
    "assert abs(modified_k / original_k - 1.05) < 1e-12\n",
    "print(f\"{modified_k}/{original_k} = {modified_k/original_k}\")"
   ]
  }
 ],
 "metadata": {
  "kernelspec": {
   "display_name": "Python 3 (ipykernel)",
   "language": "python",
   "name": "python3"
  },
  "language_info": {
   "codemirror_mode": {
    "name": "ipython",
    "version": 3
   },
   "file_extension": ".py",
   "mimetype": "text/x-python",
   "name": "python",
   "nbconvert_exporter": "python",
   "pygments_lexer": "ipython3",
   "version": "3.9.12"
  }
 },
 "nbformat": 4,
 "nbformat_minor": 4
}
