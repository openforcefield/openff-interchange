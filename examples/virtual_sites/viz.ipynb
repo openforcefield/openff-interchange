{
 "cells": [
  {
   "cell_type": "code",
   "execution_count": null,
   "metadata": {},
   "outputs": [],
   "source": [
    "import nglview\n",
    "import openmm.app\n",
    "from openff.toolkit import ForceField, Molecule\n",
    "from openff.units import ensure_quantity, unit\n",
    "\n",
    "from openff.interchange import Interchange\n",
    "from openff.interchange.interop.internal.gromacs import _get_virtual_site_positions\n",
    "from openff.interchange.interop.openmm._positions import to_openmm_positions"
   ]
  },
  {
   "cell_type": "code",
   "execution_count": null,
   "metadata": {},
   "outputs": [],
   "source": [
    "def viz(smiles: str) -> nglview.NGLWidget:\n",
    "    molecule = Molecule.from_smiles(smiles)\n",
    "    molecule.generate_conformers(n_conformers=1)\n",
    "\n",
    "    # TODO: Replace this experimental force field with examples of virtual sites created via the Toolkit API\n",
    "    interchange = Interchange.from_smirnoff(\n",
    "        ForceField(\n",
    "            \"/Users/mattthompson/Downloads/force-field.offxml\",\n",
    "            allow_cosmetic_attributes=True,\n",
    "        ),\n",
    "        [molecule],\n",
    "    )\n",
    "\n",
    "    positions: unit.Quantity = to_openmm_positions(interchange)\n",
    "\n",
    "    n_atoms = interchange.topology.n_atoms\n",
    "\n",
    "    for index, virtual_site_key in enumerate(interchange[\"VirtualSites\"].slot_map):\n",
    "        # TODO: Merge this functionality from GROMACS to a common module\n",
    "        positions[n_atoms + index] = _get_virtual_site_positions(\n",
    "            virtual_site_key, interchange\n",
    "        )\n",
    "\n",
    "    with open(\"_tmp.pdb\", \"w\") as file:\n",
    "        openmm.app.PDBFile.writeFile(\n",
    "            topology=interchange.to_openmm_topology(),\n",
    "            positions=ensure_quantity(positions, \"openmm\"),\n",
    "            file=file,\n",
    "        )\n",
    "\n",
    "    view = nglview.show_file(\"_tmp.pdb\")\n",
    "\n",
    "    view.clear_representations()\n",
    "    view.add_representation(\"ball+stick\", aspectRatio=3)\n",
    "\n",
    "    return view"
   ]
  },
  {
   "cell_type": "code",
   "execution_count": null,
   "metadata": {},
   "outputs": [],
   "source": [
    "viz(\"c1ncccc1\")"
   ]
  },
  {
   "cell_type": "code",
   "execution_count": null,
   "metadata": {},
   "outputs": [],
   "source": [
    "viz(\"BrCCCC\")"
   ]
  }
 ],
 "metadata": {
  "kernelspec": {
   "display_name": "Python 3.9.15 ('base')",
   "language": "python",
   "name": "python3"
  },
  "language_info": {
   "codemirror_mode": {
    "name": "ipython",
    "version": 3
   },
   "file_extension": ".py",
   "mimetype": "text/x-python",
   "name": "python",
   "nbconvert_exporter": "python",
   "pygments_lexer": "ipython3",
   "version": "3.9.15"
  },
  "vscode": {
   "interpreter": {
    "hash": "86c9b142c8dc60dd36d17e2a57efabbd2ed015b9d3db80dd77f3e0894d5aea85"
   }
  }
 },
 "nbformat": 4,
 "nbformat_minor": 2
}
