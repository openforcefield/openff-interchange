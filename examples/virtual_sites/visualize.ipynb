{
 "cells": [
  {
   "attachments": {},
   "cell_type": "markdown",
   "metadata": {},
   "source": [
    "# Visualizing molecules with virtual sites via Interchange"
   ]
  },
  {
   "attachments": {},
   "cell_type": "markdown",
   "metadata": {},
   "source": [
    "This example appends virtual site parameters to Sage, parametrizes some small molecules with it, and visualizes the result."
   ]
  },
  {
   "cell_type": "code",
   "execution_count": null,
   "metadata": {},
   "outputs": [],
   "source": [
    "import tempfile\n",
    "\n",
    "import nglview\n",
    "from openff.toolkit import ForceField, Molecule\n",
    "from openff.toolkit.typing.engines.smirnoff.parameters import (\n",
    "    VirtualSiteHandler,\n",
    "    VirtualSiteType,\n",
    ")\n",
    "from openff.units import unit\n",
    "\n",
    "from openff.interchange import Interchange"
   ]
  },
  {
   "attachments": {},
   "cell_type": "markdown",
   "metadata": {},
   "source": [
    "There are several ways to create `ForceField`s or add parameters to existing objects. Here, we will use the OpenFF Toolkit API to create two virtual site parameters and then add them to OpenFF 2.1.0 code name \"Sage.\"\n",
    "\n",
    "We will create two parameters: one representing a nitrogen lone pair in an aromatic ring and another to fill in the sigma hole in bromine bonded to aliphatic carbon."
   ]
  },
  {
   "cell_type": "code",
   "execution_count": null,
   "metadata": {},
   "outputs": [],
   "source": [
    "nitrogen_lone_pair = VirtualSiteType(\n",
    "    smirks=\"[#6X3H1a:2]1:[#7X2a:1]:[#6X3H1a:3]:[#6X3a]:[#6X3a]:[#6X3a]1\",\n",
    "    type=\"DivalentLonePair\",\n",
    "    match=\"once\",\n",
    "    name=\"EP1\",\n",
    "    distance=0.5 * unit.angstrom,\n",
    "    outOfPlaneAngle=0.0 * unit.degree,\n",
    "    epsilon=0.0 * unit.kilojoule_per_mole,\n",
    "    sigma=0.0 * unit.nanometer,\n",
    "    charge_increment=[0.2, 0.0, 0.0] * unit.elementary_charge,\n",
    ")\n",
    "\n",
    "bromine_sigma_hole = VirtualSiteType(\n",
    "    smirks=\"[#6A:2]-[#35:1]\",\n",
    "    type=\"BondCharge\",\n",
    "    match=\"all_permutations\",\n",
    "    name=\"EP2\",\n",
    "    distance=-1.5 * unit.angstrom,\n",
    "    epsilon=0.0 * unit.kilojoule_per_mole,\n",
    "    sigma=0.0 * unit.nanometer,\n",
    "    charge_increment=[0.1, 0.0] * unit.elementary_charge,\n",
    ")"
   ]
  },
  {
   "attachments": {},
   "cell_type": "markdown",
   "metadata": {},
   "source": [
    "Now that we've created our two parameters as `VirtualSiteType` objects, we can create a handler (`VirtualSiteHandler`), add the two parameters to the handler, and finally add the handler to the force field."
   ]
  },
  {
   "cell_type": "code",
   "execution_count": null,
   "metadata": {},
   "outputs": [],
   "source": [
    "virtual_sites = VirtualSiteHandler(version=0.3)\n",
    "\n",
    "virtual_sites.add_parameter(parameter=nitrogen_lone_pair)\n",
    "virtual_sites.add_parameter(parameter=bromine_sigma_hole)\n",
    "\n",
    "force_field = ForceField(\"openff-2.1.0.offxml\")\n",
    "force_field.register_parameter_handler(virtual_sites)\n",
    "\n",
    "print(f\"Registered handlers: {force_field.registered_parameter_handlers}\\n\")\n",
    "print(\"Virtual site parameters:\")\n",
    "for parameter in force_field[\"VirtualSites\"].parameters:\n",
    "    print(parameter)"
   ]
  },
  {
   "attachments": {},
   "cell_type": "markdown",
   "metadata": {},
   "source": [
    "Now that our force field includes virtual site parameters, we can use it to parametrize molecules!\n",
    "\n",
    "Interchange provides a `.to_pdb` method that optionally includes virtual sites, computing their positions from the geometry specified in the force field. To quickly look at some single-molecule results, let's wrap this up into a function that takes a SMILES pattern, writes out a PDB file via Interchange, and visualizes the result with [NGLview](https://nglviewer.org/#nglview)."
   ]
  },
  {
   "cell_type": "code",
   "execution_count": null,
   "metadata": {},
   "outputs": [],
   "source": [
    "def visualize(smiles: str) -> nglview.NGLWidget:\n",
    "    molecule = Molecule.from_smiles(smiles)\n",
    "    molecule.generate_conformers(n_conformers=1)\n",
    "\n",
    "    interchange = force_field.create_interchange(molecule.to_topology())\n",
    "\n",
    "    with tempfile.NamedTemporaryFile(suffix=\".pdb\") as temporary_file:\n",
    "        interchange.to_pdb(temporary_file.name, include_virtual_sites=True)\n",
    "\n",
    "        view = nglview.show_file(temporary_file.name)\n",
    "\n",
    "    view.clear_representations()\n",
    "    view.add_representation(\"hyperball\")\n",
    "\n",
    "    return view"
   ]
  },
  {
   "cell_type": "code",
   "execution_count": null,
   "metadata": {},
   "outputs": [],
   "source": [
    "visualize(\"c1ncccc1\")"
   ]
  },
  {
   "cell_type": "code",
   "execution_count": null,
   "metadata": {},
   "outputs": [],
   "source": [
    "visualize(\"BrCCCCBr\")"
   ]
  },
  {
   "attachments": {},
   "cell_type": "markdown",
   "metadata": {},
   "source": [
    "Think about how these parameters could be modified to produce different physics.\n",
    "\n",
    "* How would you change the nitrogen lone pair virtual site to\n",
    "  * Be placed closer to the nitrogen atom/nucleus?\n",
    "  * Not sit flat in the plane of the ring?\n",
    "  * Move a charge of 0.3 e instead of 0.2?\n",
    "* How would you change the bromine parameter to\n",
    "  * Apply to chlorocarbons instead?\n",
    "  * Have (weak) vdW interactions?\n",
    "  * Move a charge of 0.2 e instead of 0.1?\n"
   ]
  }
 ],
 "metadata": {
  "kernelspec": {
   "display_name": "Python 3 (ipykernel)",
   "language": "python",
   "name": "python3"
  },
  "language_info": {
   "codemirror_mode": {
    "name": "ipython",
    "version": 3
   },
   "file_extension": ".py",
   "mimetype": "text/x-python",
   "name": "python",
   "nbconvert_exporter": "python",
   "pygments_lexer": "ipython3",
   "version": "3.11.4"
  },
  "vscode": {
   "interpreter": {
    "hash": "86c9b142c8dc60dd36d17e2a57efabbd2ed015b9d3db80dd77f3e0894d5aea85"
   }
  }
 },
 "nbformat": 4,
 "nbformat_minor": 2
}
