{
 "cells": [
  {
   "cell_type": "markdown",
   "metadata": {},
   "source": [
    "# Simulating an Interchange with Amber\n",
    "\n",
    "<details>\n",
    "    <summary><small>▼ Click here for dependency installation instructions</small></summary>\n",
    "    The simplest way to install dependencies is to use the Interchange examples environment. From the root of the cloned openff-interchange repository:\n",
    "    \n",
    "    conda env create --name interchange-examples --file devtools/conda-envs/examples_env.yaml \n",
    "    conda activate interchange-examples\n",
    "    pip install -e .\n",
    "    cd examples/amber\n",
    "    jupyter notebook amber.ipynb\n",
    "    \n",
    "</details>\n",
    "\n",
    "In this example, we'll quickly construct an `Interchange` and then run a simulation in Amber. "
   ]
  },
  {
   "cell_type": "markdown",
   "metadata": {},
   "source": [
    "We need an `Interchange` to get started, so let's put that together quickly. For more explanation on this process, take a look at the [packed_box] and [protein_ligand] examples.\n",
    "\n",
    "[packed_box]: https://github.com/openforcefield/openff-interchange/tree/main/examples/packed_box\n",
    "[protein_ligand]: https://github.com/openforcefield/openff-interchange/tree/main/examples/protein_ligand"
   ]
  },
  {
   "cell_type": "code",
   "execution_count": null,
   "metadata": {},
   "outputs": [],
   "source": [
    "import time\n",
    "\n",
    "import mdtraj as md\n",
    "import nglview\n",
    "import openmm\n",
    "from openff.toolkit.topology import Molecule, Topology\n",
    "from openff.toolkit.typing.engines.smirnoff import ForceField\n",
    "from openff.toolkit.utils import get_data_file_path\n",
    "from openff.units import unit\n",
    "from openmm.app import PDBFile\n",
    "from pandas import read_csv\n",
    "\n",
    "from openff.interchange import Interchange\n",
    "\n",
    "# Read a structure from the Toolkit's test suite into a Topology\n",
    "pdbfile = PDBFile(\n",
    "    get_data_file_path(\"systems/packmol_boxes/propane_methane_butanol_0.2_0.3_0.5.pdb\")\n",
    ")\n",
    "molecules = [Molecule.from_smiles(smi) for smi in [\"CCC\", \"C\", \"CCCCO\"]]\n",
    "off_topology = Topology.from_openmm(pdbfile.topology, unique_molecules=molecules)\n",
    "\n",
    "# Construct the Interchange with the OpenFF \"Sage\" force field\n",
    "interchange = Interchange.from_smirnoff(\n",
    "    force_field=ForceField(\"openff-2.0.0.offxml\"),\n",
    "    topology=off_topology,\n",
    ")\n",
    "interchange.positions = pdbfile.positions"
   ]
  },
  {
   "cell_type": "markdown",
   "metadata": {},
   "source": [
    "Tada! A beautiful solvent system:"
   ]
  },
  {
   "cell_type": "code",
   "execution_count": null,
   "metadata": {},
   "outputs": [],
   "source": [
    "interchange.visualize(\"nglview\")"
   ]
  },
  {
   "cell_type": "markdown",
   "metadata": {},
   "source": [
    "\n",
    "## Run a simulation\n",
    "\n",
    "We need Amber input files to run our simulation. The `.prmtop` stores the topology and paramaters, while the `.inpcrd` file is for coordinates:"
   ]
  },
  {
   "cell_type": "code",
   "execution_count": null,
   "metadata": {},
   "outputs": [],
   "source": [
    "interchange.to_prmtop(\"amber.prmtop\")\n",
    "interchange.to_inpcrd(\"amber.inpcrd\")"
   ]
  },
  {
   "cell_type": "markdown",
   "metadata": {},
   "source": [
    "We also need an input file to describe the simulation parameters:"
   ]
  },
  {
   "cell_type": "code",
   "execution_count": null,
   "metadata": {},
   "outputs": [],
   "source": [
    "amber_in = \"\"\"Basic Amber control file\n",
    "&cntrl\n",
    "  imin=0,                ! Run molecular dynamics.\n",
    "  ntx=1,                 ! Take positions from input and generate velocities\n",
    "  nstlim=1000,           ! Number of MD-steps to be performed.\n",
    "  dt=0.002,              ! Time step (ps)\n",
    "  tempi=300.0,           ! Initial temperature for velocity generation\n",
    "  temp0=300.0,           ! Thermostat temperature\n",
    "  cut=10.0,              ! vdW cutoff (Å)\n",
    "  igb=0,                 ! Don't use a Generalized Born model\n",
    "  ntt=3, gamma_ln=20.0,   ! Temperature scaling using Langevin dynamics with the collision frequency in gamma_ln (ps−1)\n",
    "  ntp=0,                 ! No pressure scaling\n",
    "  iwrap=1,               ! Wrap trajectory coordinates to stay in box\n",
    "  ioutfm=1,              ! Write out netcdf trajectory\n",
    "  ntwx=1,                ! Frequency to write coordinates\n",
    "  ntpr=50                ! Frequency to log energy info\n",
    "/\n",
    "\"\"\"\n",
    "with open(\"amber.in\", \"w\") as f:\n",
    "    f.write(amber_in)"
   ]
  },
  {
   "cell_type": "markdown",
   "metadata": {},
   "source": [
    "Run the simulation with Sander:"
   ]
  },
  {
   "cell_type": "code",
   "execution_count": null,
   "metadata": {},
   "outputs": [],
   "source": [
    "!sander                \\\n",
    "    -O                 \\\n",
    "    -i amber.in        \\\n",
    "    -p amber.prmtop    \\\n",
    "    -c amber.inpcrd    \\\n",
    "    -x trajectory.nc"
   ]
  },
  {
   "cell_type": "markdown",
   "metadata": {},
   "source": [
    "And finally we can visualize!"
   ]
  },
  {
   "cell_type": "code",
   "execution_count": null,
   "metadata": {},
   "outputs": [],
   "source": [
    "traj = md.load(\"trajectory.nc\", top=md.load_prmtop(\"amber.prmtop\"))\n",
    "nglview.show_mdtraj(traj)"
   ]
  }
 ],
 "metadata": {
  "kernelspec": {
   "display_name": "Python 3 (ipykernel)",
   "language": "python",
   "name": "python3"
  },
  "language_info": {
   "codemirror_mode": {
    "name": "ipython",
    "version": 3
   },
   "file_extension": ".py",
   "mimetype": "text/x-python",
   "name": "python",
   "nbconvert_exporter": "python",
   "pygments_lexer": "ipython3",
   "version": "3.9.12"
  }
 },
 "nbformat": 4,
 "nbformat_minor": 4
}
