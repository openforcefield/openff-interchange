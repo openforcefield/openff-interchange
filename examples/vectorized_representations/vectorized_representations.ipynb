{
 "cells": [
  {
   "cell_type": "markdown",
   "id": "0",
   "metadata": {},
   "source": [
    "# Vectorized force field representations"
   ]
  },
  {
   "cell_type": "markdown",
   "id": "1",
   "metadata": {},
   "source": [
    "Interchange can produce representations of both force field parameters and parametrized systems as NumPy arrays, which might be convenient for any number of computational approaches to force field development. This example explores this feature."
   ]
  },
  {
   "cell_type": "code",
   "execution_count": null,
   "id": "2",
   "metadata": {
    "tags": []
   },
   "outputs": [],
   "source": [
    "import numpy\n",
    "from openff.toolkit import ForceField, Molecule\n",
    "from rich.pretty import pprint\n",
    "\n",
    "from openff.interchange import Interchange"
   ]
  },
  {
   "cell_type": "code",
   "execution_count": null,
   "id": "3",
   "metadata": {
    "tags": []
   },
   "outputs": [],
   "source": [
    "sage = ForceField(\"openff-2.0.0.offxml\")\n",
    "molecule = Molecule.from_smiles(r\"F\\C=C/[F]\")\n",
    "interchange = Interchange.from_smirnoff(sage, [molecule])\n",
    "\n",
    "pprint(interchange.collections.keys())"
   ]
  },
  {
   "cell_type": "markdown",
   "id": "4",
   "metadata": {},
   "source": [
    "An `Interchange` constructed from a SMIRNOFF force field contains collections for several different types of parameters. For simplicity, let's look at the bond collection."
   ]
  },
  {
   "cell_type": "code",
   "execution_count": null,
   "id": "5",
   "metadata": {
    "tags": []
   },
   "outputs": [],
   "source": [
    "collection = interchange.collections[\"Bonds\"]"
   ]
  },
  {
   "cell_type": "markdown",
   "id": "6",
   "metadata": {},
   "source": [
    "A [`Collection`] stores force field parameters and information about how they relate to the Interchange's topology. In addition, they include some handy methods for transforming these to vectorized representations.\n",
    "\n",
    "[`Collection`]: https://docs.openforcefield.org/projects/interchange/en/stable/_autosummary/openff.interchange.components.potentials.Collection.html"
   ]
  },
  {
   "cell_type": "code",
   "execution_count": null,
   "id": "7",
   "metadata": {
    "tags": []
   },
   "outputs": [],
   "source": [
    "pprint(collection.get_force_field_parameters())\n",
    "\n",
    "#      k (kcal/mol/Å),   length (Å)\n",
    "#\n",
    "# 0: [#6:1]-[#9:2]\n",
    "# 1: [#6X3:1]=[#6X3:2]\n",
    "# 2: [#6X3:1]-[#1:2]"
   ]
  },
  {
   "cell_type": "markdown",
   "id": "8",
   "metadata": {},
   "source": [
    "[`Collection.get_force_field_parameters()`] returns an array with one row per unique force field parameter used and one colum per number in each parameter. For this molecule, that means three rows (C-F, C#C, and C-H chemistries) and two columns (`k` and `length`). This matrix scales with the number of unique force field parameters used so it will not generally scale with system size.\n",
    "\n",
    "[`Collection.get_force_field_parameters()`]: https://docs.openforcefield.org/projects/interchange/en/stable/_autosummary/openff.interchange.components.potentials.Collection.html#openff.interchange.components.potentials.Collection.get_force_field_parameters"
   ]
  },
  {
   "cell_type": "code",
   "execution_count": null,
   "id": "9",
   "metadata": {
    "tags": []
   },
   "outputs": [],
   "source": [
    "pprint(collection.get_system_parameters())\n",
    "\n",
    "#      k (kcal/mol/Å),   length (Å)\n",
    "#\n",
    "# bond0: (0, 1)\n",
    "# bond1: (1, 2)\n",
    "# bond2: (1, 4)\n",
    "# bond3: (2, 3)\n",
    "# bond4: (2, 5)"
   ]
  },
  {
   "cell_type": "markdown",
   "id": "10",
   "metadata": {},
   "source": [
    "[`Collection.get_system_field_parameters()`] returns a similar array but with one row per bond in the topology, including duplicates. Since there are two C-H and two C-F bonds, those parameters each appear twice. This matrix scales with the size of the system (in this case, number of bonds) so it may be large for large systems.\n",
    "\n",
    "[`Collection.get_system_field_parameters()`]: https://docs.openforcefield.org/projects/interchange/en/stable/_autosummary/openff.interchange.components.potentials.Collection.html#openff.interchange.components.potentials.Collection.get_system_field_parameters"
   ]
  },
  {
   "cell_type": "code",
   "execution_count": null,
   "id": "11",
   "metadata": {
    "tags": []
   },
   "outputs": [],
   "source": [
    "pprint(collection.get_param_matrix())\n",
    "\n",
    "#      k0  l0   k1  l1   k2  l2\n",
    "# bond0: k\n",
    "# bond0: l\n",
    "# bond1: k\n",
    "# bond1: l\n",
    "# bond2: k\n",
    "# bond2: l\n",
    "# bond3: k\n",
    "# bond3: l\n",
    "# bond4: k\n",
    "# bond4: l"
   ]
  },
  {
   "cell_type": "markdown",
   "id": "12",
   "metadata": {},
   "source": [
    "It may be useful to encode the relationships between force field parameters and where in the topology they're applied. This is handled by [`collection.get_param_matrix()`], which returns a spare matrix. Each column corresponds to a force field parameter and each row corresponds to a bond that could be associated with each, each dimension being a flattened representation of the above matrices. A 1 indicates that a parameter is applied to that bond, a 0 indicates that it is not. For example, the 1 at `[0, 0]` indicates that the first bond gets assigned the first `k` value. The 1 at `[7, 1]` indicates that the fourth bond gets assigned the first `length`.\n",
    "\n",
    "Conveniently, the dot product of this matrix with a flattened view of the force field parameters is equal to the view of the system parameters we saw above.\n",
    "\n",
    "\n",
    "[`Collection.get_param_matrix()`]: https://docs.openforcefield.org/projects/interchange/en/stable/_autosummary/openff.interchange.components.potentials.Collection.html#openff.interchange.components.potentials.Collection.get_param_matrix"
   ]
  },
  {
   "cell_type": "code",
   "execution_count": null,
   "id": "13",
   "metadata": {},
   "outputs": [],
   "source": [
    "dotted = numpy.dot(\n",
    "    interchange[\"Bonds\"].get_param_matrix(),\n",
    "    interchange[\"Bonds\"].get_force_field_parameters().flatten(),\n",
    ").reshape((-1, 2))\n",
    "\n",
    "assert numpy.allclose(dotted, collection.get_system_parameters())\n",
    "\n",
    "pprint(dotted)"
   ]
  }
 ],
 "metadata": {
  "category": "force_field_dev",
  "kernelspec": {
   "display_name": "Python 3 (ipykernel)",
   "language": "python",
   "name": "python3"
  },
  "language_info": {
   "codemirror_mode": {
    "name": "ipython",
    "version": 3
   },
   "file_extension": ".py",
   "mimetype": "text/x-python",
   "name": "python",
   "nbconvert_exporter": "python",
   "pygments_lexer": "ipython3",
   "version": "3.11.4"
  }
 },
 "nbformat": 4,
 "nbformat_minor": 5
}
