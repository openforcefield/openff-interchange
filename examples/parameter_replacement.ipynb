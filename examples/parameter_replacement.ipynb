{
 "cells": [
  {
   "cell_type": "code",
   "execution_count": null,
   "metadata": {},
   "outputs": [],
   "source": [
    "from openff.toolkit.topology import Molecule, Topology\n",
    "from openff.toolkit.typing.engines.smirnoff import ForceField\n",
    "\n",
    "from openff.interchange import Interchange"
   ]
  },
  {
   "cell_type": "code",
   "execution_count": null,
   "metadata": {},
   "outputs": [],
   "source": [
    "# Create an OpenFF Topology consisting of two ethanol molecules\n",
    "top = Topology.from_molecules(2 * [Molecule.from_smiles(\"CCO\")])"
   ]
  },
  {
   "cell_type": "code",
   "execution_count": null,
   "metadata": {},
   "outputs": [],
   "source": [
    "# Load in two versions of OpenFF 1.x.x (\"Parsley\")\n",
    "parsley_100 = ForceField(\"openff-1.0.0.offxml\")\n",
    "parsley_130 = ForceField(\"openff-1.3.0.offxml\")"
   ]
  },
  {
   "cell_type": "code",
   "execution_count": null,
   "metadata": {},
   "outputs": [],
   "source": [
    "# Construct an Interchange object from each force field and the common topology\n",
    "sys_100 = Interchange.from_smirnoff(force_field=parsley_100, topology=top)\n",
    "sys_130 = Interchange.from_smirnoff(force_field=parsley_130, topology=top)"
   ]
  },
  {
   "cell_type": "code",
   "execution_count": null,
   "metadata": {},
   "outputs": [],
   "source": [
    "# Look into each object's angle values ...\n",
    "sys_100.handlers[\"Angles\"].potentials"
   ]
  },
  {
   "cell_type": "code",
   "execution_count": null,
   "metadata": {},
   "outputs": [],
   "source": [
    "# ... and notice that they're (slightly) different values\n",
    "sys_130.handlers[\"Angles\"].potentials"
   ]
  },
  {
   "cell_type": "code",
   "execution_count": null,
   "metadata": {},
   "outputs": [],
   "source": [
    "# This can be verified by directly comparing the objects\n",
    "assert not sys_100.handlers[\"Angles\"] == sys_130.handlers[\"Angles\"]"
   ]
  },
  {
   "cell_type": "code",
   "execution_count": null,
   "metadata": {},
   "outputs": [],
   "source": [
    "# (This first step not strictly necessary, as the typing did not change between versions of this force field line)\n",
    "sys_100.handlers[\"Angles\"].store_matches(parsley_100[\"Angles\"], topology=top)\n",
    "\n",
    "# But we can replace the `Potential` objects with openff-1.3.0 values by feeding it in\n",
    "# the \"Bonds\" section of that force field, which is represented in memory by a `BondHandler` object\n",
    "sys_100.handlers[\"Angles\"].store_potentials(parsley_130[\"Angles\"])"
   ]
  },
  {
   "cell_type": "code",
   "execution_count": null,
   "metadata": {},
   "outputs": [],
   "source": [
    "assert sys_100.handlers[\"Angles\"] == sys_130.handlers[\"Angles\"]"
   ]
  },
  {
   "cell_type": "code",
   "execution_count": null,
   "metadata": {},
   "outputs": [],
   "source": [
    "# Or, more verbosely, we can again inspect the objects themselves ...\n",
    "sys_100.handlers[\"Angles\"].potentials"
   ]
  },
  {
   "cell_type": "code",
   "execution_count": null,
   "metadata": {},
   "outputs": [],
   "source": [
    "# ... and see that they are now both using the `openff-1.3.0` values\n",
    "sys_130.handlers[\"Angles\"].potentials"
   ]
  },
  {
   "cell_type": "code",
   "execution_count": null,
   "metadata": {},
   "outputs": [],
   "source": [
    "# But we didn't change any other values, i.e. bonds\n",
    "assert not sys_100.handlers[\"Bonds\"] == sys_130.handlers[\"Bonds\"]"
   ]
  },
  {
   "cell_type": "code",
   "execution_count": null,
   "metadata": {},
   "outputs": [],
   "source": [
    "# TODO: Add a trip to disk"
   ]
  }
 ],
 "metadata": {
  "kernelspec": {
   "display_name": "Python 3 (ipykernel)",
   "language": "python",
   "name": "python3"
  },
  "language_info": {
   "codemirror_mode": {
    "name": "ipython",
    "version": 3
   },
   "file_extension": ".py",
   "mimetype": "text/x-python",
   "name": "python",
   "nbconvert_exporter": "python",
   "pygments_lexer": "ipython3",
   "version": "3.9.9"
  }
 },
 "nbformat": 4,
 "nbformat_minor": 4
}
