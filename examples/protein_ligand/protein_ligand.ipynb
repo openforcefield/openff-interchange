{
 "cells": [
  {
   "cell_type": "markdown",
   "id": "0",
   "metadata": {},
   "source": [
    "# Protein-ligand-water systems with Interchange"
   ]
  },
  {
   "cell_type": "markdown",
   "id": "1",
   "metadata": {},
   "source": [
    "In this example, we'll take a docked protein-ligand system from an OpenFF benchmark data set, parameterize and solvate it, and export the parameterized system to a variety of simulation engines.\n",
    "\n",
    "<div class=\"alert alert-danger\" style=\"max-width: 700px; margin-left: auto; margin-right: auto;\">\n",
    "    <b>🚧 This code is not production-ready</b><br />\n",
    "    This example describes a number of procedures that are buggy, poorly performing, or outright broken. Get excited about what's coming, but hold off on using this in production work.\n",
    "</div>"
   ]
  },
  {
   "cell_type": "code",
   "execution_count": null,
   "id": "2",
   "metadata": {},
   "outputs": [],
   "source": [
    "import urllib\n",
    "\n",
    "import mdtraj as md\n",
    "import nglview\n",
    "import numpy as np\n",
    "from openff.toolkit import ForceField, Molecule, Topology\n",
    "from openff.units import unit\n",
    "\n",
    "from openff.interchange import Interchange\n",
    "from openff.interchange.components._packmol import UNIT_CUBE, pack_box\n",
    "from openff.interchange.drivers import (\n",
    "    get_amber_energies,\n",
    "    get_gromacs_energies,\n",
    "    get_openmm_energies,\n",
    ")\n",
    "from openff.interchange.drivers.all import get_summary_data"
   ]
  },
  {
   "cell_type": "markdown",
   "id": "3",
   "metadata": {},
   "source": [
    "## Collecting structures"
   ]
  },
  {
   "cell_type": "markdown",
   "id": "4",
   "metadata": {},
   "source": [
    "In this example we'll use starting coordinates data from [MCL1], which is part of the [Protein Ligand Benchmark] data set curated by the Open Force Field Initiative. Conveniently for the purposes of this example, the ligand is already docked and the protein is relatively small (~2000 atoms), so we can focus on using Interchange without too much prep.\n",
    "\n",
    "[Protein Ligand Benchmark]: https://github.com/openforcefield/protein-ligand-benchmark#proteinligandbenchmarks\n",
    "[MCL1]: https://github.com/openforcefield/protein-ligand-benchmark/tree/8c94c0dcc892dfd77992567294b1ff31c62e8695/plbenchmark/sample_data/2020-08-26_mcl1_sample"
   ]
  },
  {
   "cell_type": "markdown",
   "id": "5",
   "metadata": {},
   "source": [
    "Start by downloading the protein and ligand structure files from GitHub:"
   ]
  },
  {
   "cell_type": "code",
   "execution_count": null,
   "id": "6",
   "metadata": {},
   "outputs": [],
   "source": [
    "url = (\n",
    "    \"https://raw.githubusercontent.com/openforcefield/protein-ligand-benchmark/\"\n",
    "    \"8c94c0dcc892dfd77992567294b1ff31c62e8695/plbenchmark/sample_data/2020-08-26_mcl1_sample/\"\n",
    ")\n",
    "\n",
    "urllib.request.urlretrieve(url + \"01_protein/crd/protein.pdb\", \"protein.pdb\")\n",
    "urllib.request.urlretrieve(url + \"02_ligands/lig_23/crd/lig_23.sdf\", \"lig_23.sdf\")\n",
    "\n",
    "# `protein.pdb` and `lig_23.sdf` should be in the local path now\n",
    "!ls -lhrt"
   ]
  },
  {
   "cell_type": "markdown",
   "id": "7",
   "metadata": {},
   "source": [
    "The OpenFF Toolkit recently (version 0.13) added support for loading multi-component PDBs. There are [some limitations](https://docs.openforcefield.org/projects/toolkit/en/stable/api/generated/openff.toolkit.topology.Topology.html#openff.toolkit.topology.Topology.from_pdb) but for our system - a well-structured PDB file including a protein and some crystal waters - it should work fine."
   ]
  },
  {
   "cell_type": "code",
   "execution_count": null,
   "id": "8",
   "metadata": {
    "tags": []
   },
   "outputs": [],
   "source": [
    "protein_with_crystal_water = Topology.from_pdb(\"protein.pdb\")\n",
    "protein_with_crystal_water.n_molecules"
   ]
  },
  {
   "cell_type": "markdown",
   "id": "9",
   "metadata": {},
   "source": [
    "`protein_with_crystal_water` is a `Topology`, not a `Molecule`, containing the protein and a few crystal waters. We can splice out the protein as a `Molecule` object and visualize it:"
   ]
  },
  {
   "cell_type": "code",
   "execution_count": null,
   "id": "10",
   "metadata": {},
   "outputs": [],
   "source": [
    "protein = protein_with_crystal_water.molecule(0)\n",
    "protein"
   ]
  },
  {
   "cell_type": "markdown",
   "id": "11",
   "metadata": {},
   "source": [
    "## Preparing components"
   ]
  },
  {
   "cell_type": "markdown",
   "id": "12",
   "metadata": {},
   "source": [
    "This system has three components: Protein, ligand, and solvent (water). For each component, we need positions and parameters. Our protein and ligand positions come from PDBs, and we'll generate solvent coordinates ourselves. For parameters, the Sage force field will be perfect for the ligand and water, but doesn't support proteins - they're coming in Rosemary. In the meantime, we'll use a SMIRNOFF port of ff14SB, a popular force field in the Amber force field family which has a compatible functionaln form.\n",
    "\n",
    "Unfortunately, this means we need to treat each component seperately. Interchange provides an experimental means for combining these systems, which we'll see in a bit."
   ]
  },
  {
   "cell_type": "markdown",
   "id": "13",
   "metadata": {
    "tags": []
   },
   "source": [
    "### Protein component\n",
    "\n",
    "Let's start with the protein component. We  The `Molecule.from_polymer_pdb()` method constructs a `Molecule` from a PDB file encoding a protein. A `Molecule` object stores a molecule's chemical identity, bond graph, and co-ordinates. The OpenFF Toolkit doesn't accept PDB files for small molecules because they  don't have enough chemical information, but it makes an exception for biopolymers like proteins via a chemical substructure dictionary containing information about canonical amino aicds. This saves us from needing to do things like write up a SMILES string for an entire protein.\n",
    "\n",
    "Our PDB file doesn't only contain one molecule, though, it contains a protein and crystal waters. The OpenFF Toolkit recently (version 0.13) added support for loading multi-component PDBs. There are [some limitations](https://docs.openforcefield.org/projects/toolkit/en/stable/api/generated/openff.toolkit.topology.Topology.html#openff.toolkit.topology.Topology.from_pdb) but for our system it should work fine."
   ]
  },
  {
   "cell_type": "code",
   "execution_count": null,
   "id": "14",
   "metadata": {
    "tags": []
   },
   "outputs": [],
   "source": [
    "protein_with_crystal_water = Topology.from_pdb(\"protein.pdb\")\n",
    "protein_with_crystal_water.n_molecules"
   ]
  },
  {
   "cell_type": "markdown",
   "id": "15",
   "metadata": {},
   "source": [
    "`protein_with_crystal_water` is a `Topology`, not a `Molecule`, containing the protein and a few crystal waters. We can splice out the protein as a `Molecule` object and visualize it to make sure it looks reasonable:"
   ]
  },
  {
   "cell_type": "code",
   "execution_count": null,
   "id": "16",
   "metadata": {},
   "outputs": [],
   "source": [
    "protein = protein_with_crystal_water.molecule(0)\n",
    "protein.visualize(backend=\"nglview\")"
   ]
  },
  {
   "cell_type": "markdown",
   "id": "17",
   "metadata": {},
   "source": [
    "OpenFF maintains a [port](https://github.com/openforcefield/openff-amber-ff-ports) of Amber ff14sb, which we'll use for the protein parameters. We're using the `impropers` variant because Interchange doesn't support Amber's improper torsion function.\n",
    "\n",
    "\n",
    "<div class=\"alert alert-danger\" style=\"max-width: 700px; margin-left: auto; margin-right: auto;\">\n",
    "    <b>🚧 This code is not production-ready</b><br />\n",
    "    The Amber ff14sb port is intended as a proof-of-concept for SMIRNOFF protein force fields. It does not precisely match the energetics or forces of the original ff14sb, and Interchange is missing features required for it to work correctly. Wait for protein support in the Rosemary force field to use this in production.\n",
    "</div>"
   ]
  },
  {
   "cell_type": "code",
   "execution_count": null,
   "id": "18",
   "metadata": {},
   "outputs": [],
   "source": [
    "ff14sb = ForceField(\"ff14sb_off_impropers_0.0.3.offxml\")"
   ]
  },
  {
   "cell_type": "markdown",
   "id": "19",
   "metadata": {},
   "source": [
    "We can use the `Interchange.from_smirnoff` constructor method to combine the `protein` molecule (with coordinates) and the `ff14sb` force field into an `Interchange`."
   ]
  },
  {
   "cell_type": "code",
   "execution_count": null,
   "id": "20",
   "metadata": {},
   "outputs": [],
   "source": [
    "protein_intrcg = Interchange.from_smirnoff(\n",
    "    force_field=ff14sb,\n",
    "    topology=protein.to_topology(),\n",
    ")"
   ]
  },
  {
   "cell_type": "markdown",
   "id": "21",
   "metadata": {},
   "source": [
    "### Ligand component"
   ]
  },
  {
   "cell_type": "markdown",
   "id": "22",
   "metadata": {},
   "source": [
    "SDF files encode all the chemical information the Toolkit needs to construct a `Molecule`, so we can use the general-purpose small molecule `from_file` method for the ligand:"
   ]
  },
  {
   "cell_type": "code",
   "execution_count": null,
   "id": "23",
   "metadata": {},
   "outputs": [],
   "source": [
    "ligand = Molecule.from_file(\"lig_23.sdf\")\n",
    "ligand.name = \"LIG\"\n",
    "ligand.visualize(backend=\"nglview\")"
   ]
  },
  {
   "cell_type": "markdown",
   "id": "24",
   "metadata": {},
   "source": [
    "We'll use the [OpenFF 2.0.0 \"Sage\"] force field for the ligand, which is a production-ready small molecule [SMIRNOFF] force field. Its coordinates are taken from the `lig_23.sdf` file we downloaded earlier. We just want to do some point energy calculations as a proof of concept, so we'll use the unconstrained variant of Sage (see the OpenFF Toolkit [FAQ] for details).\n",
    "\n",
    "[OpenFF 2.0.0 \"Sage\"]: https://openforcefield.org/community/news/general/sage2.0.0-release/\n",
    "[FAQ]: https://open-forcefield-toolkit.readthedocs.io/en/stable/faq.html#what-does-unconstrained-mean-in-a-force-field-name\n",
    "[SMIRNOFF]: https://open-forcefield-toolkit.readthedocs.io/en/stable/users/smirnoff.html"
   ]
  },
  {
   "cell_type": "code",
   "execution_count": null,
   "id": "25",
   "metadata": {},
   "outputs": [],
   "source": [
    "ligand_intrcg = Interchange.from_smirnoff(\n",
    "    force_field=ForceField(\"openff_unconstrained-2.0.0.offxml\"),\n",
    "    topology=[ligand],\n",
    ")"
   ]
  },
  {
   "cell_type": "markdown",
   "id": "26",
   "metadata": {},
   "source": [
    "Now that we have two interchanges, we can combine them with the `Interchange.combine` method! We'll need a combined system to solvate too, so this'll be useful in a second.\n",
    "\n",
    "<div class=\"alert alert-danger\" style=\"max-width: 700px; margin-left: auto; margin-right: auto;\">\n",
    "    <b>🚧 This code is not production-ready</b><br />\n",
    "    The <code>Interchange.combine</code> method is unstable and may break unexpectedly or be removed altogether at any time. In the future, OpenFF force fields will support biopolymers and combining Interchanges will be less necessary than at present. Don't combine force fields in production code.\n",
    "</div>"
   ]
  },
  {
   "cell_type": "code",
   "execution_count": null,
   "id": "27",
   "metadata": {},
   "outputs": [],
   "source": [
    "docked_intrcg = protein_intrcg.combine(ligand_intrcg)"
   ]
  },
  {
   "cell_type": "markdown",
   "id": "28",
   "metadata": {},
   "source": [
    "In addition to making it easy to parameterize systems for all sorts of engines, Interchange makes it easy to visualize systems. We can use the `visualize()` method to view our docked system in NGLView and make sure the co-ordinates make sense:"
   ]
  },
  {
   "cell_type": "code",
   "execution_count": null,
   "id": "29",
   "metadata": {},
   "outputs": [],
   "source": [
    "w = docked_intrcg.visualize()\n",
    "w.clear_representations()\n",
    "w.add_representation(\n",
    "    \"licorice\",\n",
    "    radius=0.1,\n",
    "    selection=[*range(protein_intrcg.topology.n_atoms)],\n",
    ")\n",
    "w.add_representation(\n",
    "    \"spacefill\",\n",
    "    selection=[*range(protein_intrcg.topology.n_atoms, docked_intrcg.topology.n_atoms)],\n",
    ")\n",
    "w"
   ]
  },
  {
   "cell_type": "markdown",
   "id": "30",
   "metadata": {},
   "source": [
    "### Solvent component\n",
    "\n",
    "We'll reuse the Sage force field from earlier here, as it includes parameters for TIP3P water, but first we need coordinates for our solvated system. This is a portion of the OpenFF ecosystem that will be streamlined in the future, but we can use a PACKMOL wrapper to get the job done. We're adding a fixed amount of water for this quick example so the density will be wrong, but imagine it's right."
   ]
  },
  {
   "cell_type": "code",
   "execution_count": null,
   "id": "31",
   "metadata": {},
   "outputs": [],
   "source": [
    "# Construct a water molecule\n",
    "water = Molecule.from_smiles(\"O\")\n",
    "water.generate_conformers(n_conformers=1)\n",
    "\n",
    "# Come up with a box size based on the size of the protein plus a 2 nm buffer\n",
    "xyz = protein.conformers[0]\n",
    "centroid = xyz.sum(axis=0) / xyz.shape[0]\n",
    "protein_radius = np.sqrt(((xyz - centroid) ** 2).sum(axis=-1).max())\n",
    "box_vectors = UNIT_CUBE * (protein_radius * 2 + 2 * unit.nanometer)\n",
    "\n",
    "# Pack the box with an arbitrary number of water\n",
    "n_water = 1000\n",
    "\n",
    "packed_topology = pack_box(\n",
    "    molecules=[water],\n",
    "    number_of_copies=[n_water],\n",
    "    solute=docked_intrcg.topology,\n",
    "    box_vectors=box_vectors,\n",
    ")"
   ]
  },
  {
   "cell_type": "code",
   "execution_count": null,
   "id": "32",
   "metadata": {},
   "outputs": [],
   "source": [
    "# Visualize\n",
    "packed_topology.to_file(\"packed.pdb\")\n",
    "nglview.show_structure_file(\"packed.pdb\")"
   ]
  },
  {
   "cell_type": "markdown",
   "id": "33",
   "metadata": {},
   "source": [
    "And now we can create the interchange! The `Topology` we got from `pack_box` includes the positions we'll later apply to the solvated complex. For now, we need an `Interchange` that represents the water component. We can pass it Sage, wihch contains TIP3P parameters, and a topology of `n_water` water molecules without worrying about the positions, since we'll just set those later."
   ]
  },
  {
   "cell_type": "code",
   "execution_count": null,
   "id": "34",
   "metadata": {},
   "outputs": [],
   "source": [
    "water_intrcg = Interchange.from_smirnoff(\n",
    "    force_field=ForceField(\"openff_unconstrained-2.0.0.offxml\"),\n",
    "    topology=[water] * n_water,\n",
    ")"
   ]
  },
  {
   "cell_type": "markdown",
   "id": "35",
   "metadata": {},
   "source": [
    "## Putting the system together"
   ]
  },
  {
   "cell_type": "markdown",
   "id": "36",
   "metadata": {},
   "source": [
    "Now that we've got all the pieces, we can combine the docked protein-ligand system with the solvent, and add in the positions and box vectors we just worked out\n",
    "\n",
    "<div class=\"alert alert-danger\" style=\"max-width: 700px; margin-left: auto; margin-right: auto;\">\n",
    "    <b>🚧 This code is not production-ready</b><br />\n",
    "    The <code>`Interchange.combine`</code> method is unstable and under-tested and may break unexpectedly or be removed altogether.\n",
    "</div>"
   ]
  },
  {
   "cell_type": "code",
   "execution_count": null,
   "id": "37",
   "metadata": {},
   "outputs": [],
   "source": [
    "system_intrcg = docked_intrcg.combine(water_intrcg)\n",
    "system_intrcg.positions = packed_topology.get_positions()\n",
    "system_intrcg.box = packed_topology.box_vectors"
   ]
  },
  {
   "cell_type": "code",
   "execution_count": null,
   "id": "38",
   "metadata": {},
   "outputs": [],
   "source": [
    "w = system_intrcg.visualize()\n",
    "w.clear_representations()\n",
    "# Protein rep\n",
    "w.add_representation(\n",
    "    \"licorice\",\n",
    "    radius=0.2,\n",
    "    selection=[*range(protein_intrcg.topology.n_atoms)],\n",
    ")\n",
    "# Ligand rep\n",
    "w.add_representation(\n",
    "    \"spacefill\",\n",
    "    selection=[*range(protein_intrcg.topology.n_atoms, docked_intrcg.topology.n_atoms)],\n",
    ")\n",
    "# Water rep\n",
    "w.add_representation(\n",
    "    \"licorice\",\n",
    "    radius=0.1,\n",
    "    selection=[*range(docked_intrcg.topology.n_atoms, system_intrcg.topology.n_atoms)],\n",
    ")\n",
    "w"
   ]
  },
  {
   "cell_type": "markdown",
   "id": "39",
   "metadata": {},
   "source": [
    "## Exporting to simulation engines"
   ]
  },
  {
   "cell_type": "markdown",
   "id": "40",
   "metadata": {},
   "source": [
    "Finally, we can export the final Interchange object to models understood by various simulation engines. Some of these exports are not yet optimized for large files."
   ]
  },
  {
   "cell_type": "markdown",
   "id": "41",
   "metadata": {},
   "source": [
    "### OpenMM"
   ]
  },
  {
   "cell_type": "code",
   "execution_count": null,
   "id": "42",
   "metadata": {},
   "outputs": [],
   "source": [
    "openmm_system = system_intrcg.to_openmm()\n",
    "openmm_topology = system_intrcg.topology.to_openmm(ensure_unique_atom_names=False)\n",
    "print(type(openmm_system), type(openmm_topology))"
   ]
  },
  {
   "cell_type": "markdown",
   "id": "43",
   "metadata": {},
   "source": [
    "### Amber"
   ]
  },
  {
   "cell_type": "code",
   "execution_count": null,
   "id": "44",
   "metadata": {},
   "outputs": [],
   "source": [
    "system_intrcg.to_inpcrd(\"out.inpcrd\")\n",
    "system_intrcg.to_prmtop(\"out.prmtop\")"
   ]
  },
  {
   "cell_type": "markdown",
   "id": "45",
   "metadata": {},
   "source": [
    "### LAMMPS"
   ]
  },
  {
   "cell_type": "code",
   "execution_count": null,
   "id": "46",
   "metadata": {},
   "outputs": [],
   "source": [
    "# The LAMMPS exporter has not yet been optimized for large molecules or systems\n",
    "if False:\n",
    "    system_intrcg.to_lammps(\"out.lmp\")"
   ]
  },
  {
   "cell_type": "markdown",
   "id": "47",
   "metadata": {},
   "source": [
    "### GROMACS\n",
    "\n",
    "Interchange's GROMACS exporter is a little slow for biopolymers; this will be faster in a future release."
   ]
  },
  {
   "cell_type": "code",
   "execution_count": null,
   "id": "48",
   "metadata": {},
   "outputs": [],
   "source": [
    "system_intrcg.to_gromacs(prefix=\"out\")"
   ]
  },
  {
   "cell_type": "markdown",
   "id": "49",
   "metadata": {},
   "source": [
    "## Energy tests\n",
    "\n",
    "In order to verify the accuracy of each export, we can use functions in the `openff.interchange.drivers` module to call out to each engine to evaluate single-point energies. Under the hood, each function uses the export functions just as we did in the above cells. The GROMACS and Amber exports are a little slower than the OpenMM export, so some of these cells might take a minute to execute.\n",
    "\n",
    "To get a quick look at how a single engine reports energies, use `get_openmm_energies` (or `get_gromacs_energies`, `get_amber_energies`, or `get_lammps_energies`)."
   ]
  },
  {
   "cell_type": "code",
   "execution_count": null,
   "id": "50",
   "metadata": {
    "tags": []
   },
   "outputs": [],
   "source": [
    "get_openmm_energies(system_intrcg)"
   ]
  },
  {
   "cell_type": "markdown",
   "id": "51",
   "metadata": {},
   "source": [
    "For convenience there is a function `get_summary_data` that runs through all available engines and summarizes the results in a Pandas DataFrame. (This cell might take a minute to execute). We're setting the argument `_engines` to a non-defualt value so that the LAMMPS driver is skipped even if it's available; normally this argument is unnecessary if you don't have LAMMPS installed on your system."
   ]
  },
  {
   "cell_type": "code",
   "execution_count": null,
   "id": "52",
   "metadata": {},
   "outputs": [],
   "source": [
    "summary = get_summary_data(system_intrcg, _engines=[\"OpenMM\", \"GROMACS\", \"Amber\"])\n",
    "summary"
   ]
  },
  {
   "cell_type": "markdown",
   "id": "53",
   "metadata": {},
   "source": [
    "We can see from these large energy differences that something is wrong - this stems from the experimental `Interchange` combination operation producing incorrect results."
   ]
  },
  {
   "cell_type": "code",
   "execution_count": null,
   "id": "54",
   "metadata": {
    "tags": []
   },
   "outputs": [],
   "source": [
    "summary.describe()"
   ]
  },
  {
   "cell_type": "markdown",
   "id": "55",
   "metadata": {},
   "source": [
    "In the future this should work more smoothly with identical energies reported by each engine. In lieu of that, we can evaluate the energy of each _component_ that we previously added together. This requires setting box vectors for each component and also setting the water positions, which we skipped earlier since we were able to use PACKMOL results directly."
   ]
  },
  {
   "cell_type": "code",
   "execution_count": null,
   "id": "56",
   "metadata": {
    "tags": []
   },
   "outputs": [],
   "source": [
    "for subset in [ligand_intrcg, protein_intrcg, water_intrcg]:\n",
    "    subset.box = system_intrcg.box\n",
    "\n",
    "water_intrcg.positions = system_intrcg.positions[-3000:,]"
   ]
  },
  {
   "cell_type": "code",
   "execution_count": null,
   "id": "57",
   "metadata": {
    "tags": []
   },
   "outputs": [],
   "source": [
    "get_summary_data(ligand_intrcg, _engines=[\"OpenMM\", \"GROMACS\", \"Amber\"])"
   ]
  },
  {
   "cell_type": "code",
   "execution_count": null,
   "id": "58",
   "metadata": {
    "tags": []
   },
   "outputs": [],
   "source": [
    "get_summary_data(protein_intrcg, _engines=[\"OpenMM\", \"GROMACS\", \"Amber\"])"
   ]
  },
  {
   "cell_type": "code",
   "execution_count": null,
   "id": "59",
   "metadata": {
    "tags": []
   },
   "outputs": [],
   "source": [
    "get_summary_data(water_intrcg, _engines=[\"OpenMM\", \"GROMACS\", \"Amber\"])"
   ]
  },
  {
   "cell_type": "markdown",
   "id": "60",
   "metadata": {},
   "source": [
    "We can see from these results that each engine reports nearly identical energies for each individual component."
   ]
  }
 ],
 "metadata": {
  "category": "tutorial",
  "kernelspec": {
   "display_name": "Python 3 (ipykernel)",
   "language": "python",
   "name": "python3"
  },
  "language_info": {
   "codemirror_mode": {
    "name": "ipython",
    "version": 3
   },
   "file_extension": ".py",
   "mimetype": "text/x-python",
   "name": "python",
   "nbconvert_exporter": "python",
   "pygments_lexer": "ipython3",
   "version": "3.11.4"
  },
  "vscode": {
   "interpreter": {
    "hash": "86c9b142c8dc60dd36d17e2a57efabbd2ed015b9d3db80dd77f3e0894d5aea85"
   }
  }
 },
 "nbformat": 4,
 "nbformat_minor": 5
}
