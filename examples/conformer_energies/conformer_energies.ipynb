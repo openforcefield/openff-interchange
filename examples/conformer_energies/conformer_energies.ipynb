{
 "cells": [
  {
   "cell_type": "markdown",
   "metadata": {},
   "source": [
    "# Compute conformer energies for a small molecule with Interchange"
   ]
  },
  {
   "cell_type": "markdown",
   "metadata": {},
   "source": [
    "This example generates conformers for a small molecule and then evaluates their energies in OpenMM and GROMACS. "
   ]
  },
  {
   "cell_type": "code",
   "execution_count": null,
   "metadata": {
    "tags": []
   },
   "outputs": [],
   "source": [
    "import pandas as pd\n",
    "from openff.toolkit.topology import Molecule, Topology\n",
    "from openff.toolkit.typing.engines.smirnoff import ForceField\n",
    "from openff.units import unit\n",
    "\n",
    "from openff.interchange import Interchange\n",
    "from openff.interchange.drivers import get_gromacs_energies, get_openmm_energies"
   ]
  },
  {
   "cell_type": "markdown",
   "metadata": {},
   "source": [
    "Choose the molecule we want by specifying a SMILES:"
   ]
  },
  {
   "cell_type": "code",
   "execution_count": null,
   "metadata": {
    "tags": []
   },
   "outputs": [],
   "source": [
    "SMILES = \"c1n(CCO)c(C(F)(F)(F))cc1CNCCl\""
   ]
  },
  {
   "cell_type": "markdown",
   "metadata": {},
   "source": [
    "Generate conformers with the OpenFF Toolkit. Note that these conformers are not energy-minimized with any force field, QM method, or other tool; their purpose is to generate diverse starting points for further study."
   ]
  },
  {
   "cell_type": "code",
   "execution_count": null,
   "metadata": {
    "tags": []
   },
   "outputs": [],
   "source": [
    "molecule = Molecule.from_smiles(SMILES)\n",
    "molecule.generate_conformers(n_conformers=20, rms_cutoff=0.1 * unit.angstrom),\n",
    "topology = molecule.to_topology()"
   ]
  },
  {
   "cell_type": "markdown",
   "metadata": {},
   "source": [
    "Load the Sage 2.1.0 force field:"
   ]
  },
  {
   "cell_type": "code",
   "execution_count": null,
   "metadata": {
    "tags": []
   },
   "outputs": [],
   "source": [
    "sage = ForceField(\"openff-2.0.0.offxml\")"
   ]
  },
  {
   "cell_type": "markdown",
   "metadata": {},
   "source": [
    "Apply the force field to the topology to generate an Interchange. This step might be slow as it needs to compute partial charges:"
   ]
  },
  {
   "cell_type": "code",
   "execution_count": null,
   "metadata": {
    "tags": []
   },
   "outputs": [],
   "source": [
    "interchange = Interchange.from_smirnoff(force_field=sage, topology=topology)"
   ]
  },
  {
   "cell_type": "markdown",
   "metadata": {},
   "source": [
    "Modern versions of GROMACS do not support open boundary conditions, so we'll choose a huge box to mimic the gas phase for the single-point energy calculation:"
   ]
  },
  {
   "cell_type": "code",
   "execution_count": null,
   "metadata": {
    "tags": []
   },
   "outputs": [],
   "source": [
    "interchange.box = unit.Quantity([4, 4, 4], unit.nanometer)"
   ]
  },
  {
   "cell_type": "markdown",
   "metadata": {},
   "source": [
    "Now we go over each conformer, set the Interchange's positions, perform the point energy calculation and record the results in a dataframe:"
   ]
  },
  {
   "cell_type": "code",
   "execution_count": null,
   "metadata": {
    "tags": []
   },
   "outputs": [],
   "source": [
    "summary = pd.DataFrame()\n",
    "\n",
    "kj_mol = unit.kilojoule / unit.mol\n",
    "\n",
    "for idx, conformer in enumerate(molecule.conformers):\n",
    "    interchange.positions = conformer\n",
    "\n",
    "    openmm_energies = get_openmm_energies(interchange).total_energy.m_as(kj_mol)\n",
    "    gromacs_energies = get_gromacs_energies(interchange).total_energy.m_as(kj_mol)\n",
    "\n",
    "    summary = pd.concat(\n",
    "        [\n",
    "            summary,\n",
    "            pd.DataFrame.from_dict(\n",
    "                {\n",
    "                    \"Conformer No.\": [idx],\n",
    "                    \"Interchange -> OpenMM (kJ/mol)\": [round(openmm_energies, 3)],\n",
    "                    \"Interchange -> GROMACS\": [round(gromacs_energies, 3)],\n",
    "                }\n",
    "            ),\n",
    "        ]\n",
    "    )"
   ]
  },
  {
   "cell_type": "markdown",
   "metadata": {},
   "source": [
    "Finally, we can look at the results as stored in the dataframe:"
   ]
  },
  {
   "cell_type": "code",
   "execution_count": null,
   "metadata": {
    "tags": []
   },
   "outputs": [],
   "source": [
    "summary.style.hide(axis=\"index\")"
   ]
  },
  {
   "cell_type": "code",
   "execution_count": null,
   "metadata": {},
   "outputs": [],
   "source": []
  }
 ],
 "metadata": {
  "category": "parametrization_evaluation",
  "kernelspec": {
   "display_name": "Python 3 (ipykernel)",
   "language": "python",
   "name": "python3"
  },
  "language_info": {
   "codemirror_mode": {
    "name": "ipython",
    "version": 3
   },
   "file_extension": ".py",
   "mimetype": "text/x-python",
   "name": "python",
   "nbconvert_exporter": "python",
   "pygments_lexer": "ipython3",
   "version": "3.11.4"
  },
  "vscode": {
   "interpreter": {
    "hash": "86c9b142c8dc60dd36d17e2a57efabbd2ed015b9d3db80dd77f3e0894d5aea85"
   }
  }
 },
 "nbformat": 4,
 "nbformat_minor": 4
}
