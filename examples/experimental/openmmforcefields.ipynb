{
 "cells": [
  {
   "cell_type": "markdown",
   "id": "48573107-c474-4581-86aa-99d472b02b7b",
   "metadata": {},
   "source": [
    "### Preparing a ligand with `openmmforcefields` and Interchange\n",
    "\n",
    "[`openmmforcefields`](https://github.com/openmm/openmmforcefields) is a Python package that provides OpenMM implementations of some small molecule force fields via small molecule template generators."
   ]
  },
  {
   "cell_type": "markdown",
   "id": "c52ad25b",
   "metadata": {},
   "source": [
    "### Validating the implementation of SMIRNOFF force fields\n",
    "\n",
    "`openmmforcefields` provides SMIRNOFF force fields via its infrastructure, internally calling the OpenFF Toolkit and using SMIRNOFF force fields provided by its `ForceField` class. Before doing novel things, let's validate that this implementation provides the same result as directly using OpenFF tools."
   ]
  },
  {
   "cell_type": "code",
   "execution_count": null,
   "id": "99287eb8-2245-4f6a-b9e3-d664f52c73f0",
   "metadata": {},
   "outputs": [],
   "source": [
    "from openff.toolkit import Molecule\n",
    "from openff.units import unit\n",
    "from openff.units.openmm import ensure_quantity\n",
    "from openmm.app import ForceField as OpenMMForceField\n",
    "from openmmforcefields.generators import SMIRNOFFTemplateGenerator\n",
    "\n",
    "from openff.interchange.drivers.openmm import _get_openmm_energies\n",
    "\n",
    "molecule = Molecule.from_smiles(\"O=S(=O)(N)c1c(Cl)cc2c(c1)S(=O)(=O)NCN2\")\n",
    "molecule.generate_conformers(n_conformers=1)\n",
    "\n",
    "smirnoff = SMIRNOFFTemplateGenerator(molecules=molecule)\n",
    "forcefield = OpenMMForceField()\n",
    "forcefield.registerTemplateGenerator(smirnoff.generator)\n",
    "\n",
    "system = forcefield.createSystem(\n",
    "    molecule.to_topology().to_openmm(),\n",
    "    nonbondedCutoff=ensure_quantity(0.9 * unit.nanometer, \"openmm\"),\n",
    "    switchDistance=ensure_quantity(0.8 * unit.nanometer, \"openmm\"),\n",
    ")"
   ]
  },
  {
   "cell_type": "markdown",
   "id": "c3c2140f",
   "metadata": {},
   "source": [
    "`openmmforcefields` has provided us an (OpenMM) force field with SMIRNOFF parameters included as a tempalte generator. The end goal of this setup is to create an `openmm.System`, which we can get a single-point energy of."
   ]
  },
  {
   "cell_type": "code",
   "execution_count": null,
   "id": "ed5fc47c",
   "metadata": {},
   "outputs": [],
   "source": [
    "from openff.units import unit\n",
    "from openff.units.openmm import ensure_quantity\n",
    "\n",
    "from openff.interchange.drivers.openmm import _get_openmm_energies\n",
    "\n",
    "energy_openmmforcefields = _get_openmm_energies(\n",
    "    system,\n",
    "    box_vectors=None,\n",
    "    positions=ensure_quantity(molecule.conformers[0], \"openmm\"),\n",
    "    platform=\"Reference\",\n",
    ")\n",
    "\n",
    "energy_openmmforcefields"
   ]
  },
  {
   "cell_type": "markdown",
   "id": "a8e20911",
   "metadata": {},
   "source": [
    "We can compare this to an analogous series of operations that use OpenFF tools (the toolkit's `ForceField` class and Interchange) to create an `openmm.System` that one would hope has identical contents."
   ]
  },
  {
   "cell_type": "code",
   "execution_count": null,
   "id": "119b5037",
   "metadata": {},
   "outputs": [],
   "source": [
    "from openff.toolkit import ForceField\n",
    "\n",
    "from openff.interchange import Interchange\n",
    "\n",
    "sage = ForceField(\"openff_unconstrained-2.0.0.offxml\")\n",
    "interchange = Interchange.from_smirnoff(sage, [molecule])\n",
    "\n",
    "energy_openff = _get_openmm_energies(\n",
    "    interchange.to_openmm(combine_nonbonded_forces=True),\n",
    "    box_vectors=None,\n",
    "    positions=ensure_quantity(molecule.conformers[0], \"openmm\"),\n",
    "    platform=\"Reference\",\n",
    ")\n",
    "\n",
    "energy_openff"
   ]
  },
  {
   "cell_type": "markdown",
   "id": "ca452189",
   "metadata": {},
   "source": [
    "Manually inspecting the energies shows zero or marginal differences between them. We can also programmically compare these `EnergyReport` objects with `.compare`, which raises an error if there are significant differences, or `.diff`, which reports differences whether or not they are significant.\n",
    "\n",
    "In this case, nonbonded energies may differ slightly due to differences in how `openmmforcefields` treats non-bonded settings and/or rounding errors in PME calculations."
   ]
  },
  {
   "cell_type": "code",
   "execution_count": null,
   "id": "2da9cd1e",
   "metadata": {},
   "outputs": [],
   "source": [
    "energy_openff.compare(\n",
    "    energy_openmmforcefields,\n",
    "    {\"Nonbonded\": 0.002 * unit.kilojoule_per_mole},\n",
    ")\n",
    "\n",
    "energy_openff.diff(energy_openmmforcefields)"
   ]
  },
  {
   "cell_type": "markdown",
   "id": "227e8f34",
   "metadata": {},
   "source": [
    "### Comparing to GAFF parametrization\n",
    "\n",
    "`openmmforcefields` also provides a (partial) implementation of GAFF, using AM1-BCC in place of RESP to generate partial charges. The API for using `GAFFTemplateGenerator` is analogous to using `SMIRNOFFTemplateGenerator`."
   ]
  },
  {
   "cell_type": "code",
   "execution_count": null,
   "id": "ea6189df",
   "metadata": {},
   "outputs": [],
   "source": [
    "from openmmforcefields.generators import GAFFTemplateGenerator\n",
    "\n",
    "gaff = GAFFTemplateGenerator(molecules=molecule)\n",
    "forcefield_gaff = OpenMMForceField()\n",
    "forcefield_gaff.registerTemplateGenerator(gaff.generator)\n",
    "\n",
    "system_gaff = forcefield_gaff.createSystem(molecule.to_topology().to_openmm())"
   ]
  },
  {
   "cell_type": "markdown",
   "id": "4495002b",
   "metadata": {},
   "source": [
    "From here, one could use `from_openmm` to import this `openmm.System` into an `Interchange` object, which then could be combined with other `Interchange` objects generated by different paths."
   ]
  },
  {
   "cell_type": "code",
   "execution_count": null,
   "id": "22639ad4",
   "metadata": {},
   "outputs": [],
   "source": [
    "from openff.interchange.interop.openmm import from_openmm\n",
    "\n",
    "from_openmm(\n",
    "    molecule.to_topology().to_openmm(),\n",
    "    system_gaff,\n",
    "    box_vectors=None,\n",
    "    positions=ensure_quantity(molecule.conformers[0], \"openmm\"),\n",
    ")"
   ]
  }
 ],
 "metadata": {
  "kernelspec": {
   "display_name": "Python 3 (ipykernel)",
   "language": "python",
   "name": "python3"
  },
  "language_info": {
   "codemirror_mode": {
    "name": "ipython",
    "version": 3
   },
   "file_extension": ".py",
   "mimetype": "text/x-python",
   "name": "python",
   "nbconvert_exporter": "python",
   "pygments_lexer": "ipython3",
   "version": "3.9.15"
  },
  "vscode": {
   "interpreter": {
    "hash": "86c9b142c8dc60dd36d17e2a57efabbd2ed015b9d3db80dd77f3e0894d5aea85"
   }
  }
 },
 "nbformat": 4,
 "nbformat_minor": 5
}
