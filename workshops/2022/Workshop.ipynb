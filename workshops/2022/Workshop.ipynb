{
 "cells": [
  {
   "cell_type": "markdown",
   "id": "56e5b3bf",
   "metadata": {},
   "source": [
    "OpenFF Interchange is a Python package developed by the Open Force Field Initiative for storing, manipulating, and converting molecular mechanics data. The package is oriented around the `Interchange` class, which stores a molecular mechanics system and provides methods to write the system out in numerous formats.\n",
    "\n",
    "An `Interchange` contains a fully parameterized molecular system with all the information needed to start a simulation. This includes the force field, box vectors, positions, velocities, and a topology containing individual molecules and their connectivity. For most users, `Interchange` forms the bridge between the OpenFF ecosystem and their simulation software of choice; users describe their system with the OpenFF Toolkit and then parameterize it with Interchange.\n",
    "\n",
    "Once the `Interchange` is created, it can be exported as simulation-ready input files to a number of molecular mechanics software packages, including Amber, OpenMM, GROMACS, and LAMMPS.\n",
    "\n",
    "Below is a summary of how data flows through a workflow utilizing OpenFF tools, including where Interchange sits in the flow."
   ]
  },
  {
   "cell_type": "markdown",
   "id": "990c978f",
   "metadata": {},
   "source": [
    "![title](img/flowchart.jpg)"
   ]
  },
  {
   "cell_type": "markdown",
   "id": "b80c7e6b",
   "metadata": {},
   "source": [
    "See `Units.ipynb`"
   ]
  }
 ],
 "metadata": {
  "kernelspec": {
   "display_name": "Python 3 (ipykernel)",
   "language": "python",
   "name": "python3"
  },
  "language_info": {
   "codemirror_mode": {
    "name": "ipython",
    "version": 3
   },
   "file_extension": ".py",
   "mimetype": "text/x-python",
   "name": "python",
   "nbconvert_exporter": "python",
   "pygments_lexer": "ipython3",
   "version": "3.9.13"
  }
 },
 "nbformat": 4,
 "nbformat_minor": 5
}
