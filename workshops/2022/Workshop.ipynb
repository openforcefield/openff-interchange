{
 "cells": [
  {
   "cell_type": "markdown",
   "id": "56e5b3bf",
   "metadata": {},
   "source": [
    "OpenFF Interchange is a Python package developed by the Open Force Field Initiative for storing, manipulating, and converting molecular mechanics data. The package is oriented around the `Interchange` class, which stores a molecular mechanics system and provides methods to write the system out in numerous formats.\n",
    "\n",
    "They key objective of Interchange is to provide an intermediate inspectable state after typing (applying force fields to chemical topologies) and before conversion to engine-specific formats. The current focus is applying SMIRNOFF force fields to chemical topologies and exporting the result to engines preferred by our users. In order of stability, OpenMM, GROMACS, Amber, and LAMMPS are supported. Future development may include support for CHARMM and other engines.\n",
    "\n",
    "An `Interchange` contains a fully parameterized molecular system with all the information needed to start a simulation. This includes the force field, box vectors, positions, velocities, and a topology containing individual molecules and their connectivity. For most users, `Interchange` forms the bridge between the OpenFF ecosystem and their simulation software of choice; users describe their system with the OpenFF Toolkit and then parameterize it with Interchange.\n",
    "\n",
    "Once the `Interchange` is created, it can be exported as simulation-ready input files to a number of molecular mechanics software packages, including Amber, OpenMM, GROMACS, and LAMMPS.\n",
    "\n",
    "Below is a summary of how data flows through a workflow utilizing OpenFF tools, including where Interchange sits in the flow."
   ]
  },
  {
   "cell_type": "markdown",
   "id": "990c978f",
   "metadata": {},
   "source": [
    "![title](img/flowchart.jpg)"
   ]
  },
  {
   "cell_type": "markdown",
   "id": "b80c7e6b",
   "metadata": {},
   "source": [
    "Our topics include:\n",
    "* Summarizing the key objectives and current scope of Interchange\n",
    "* Demonstrating how to use its high-level API points\n",
    "* Highlight key (current) functionality\n",
    "* (Time-permitting) preview some experimental features\n",
    "\n",
    "Other notebooks we will be going through today:\n",
    "* `Units.ipynb`: Using unit-wrapped quantities used throughout the OpenFF software stack\n",
    "* `Construction.ipynb`: Creating `Interchange` objects\n",
    "* `Inspection.ipynb`: Inspecting (most of) the contents of `Interchange` objects\n",
    "* `Exports.ipynb`: Exporting `Interchange` objects to molecular simulation engines\n",
    "* `Exploration.ipynb`: Inspecting potential handlers directly\n",
    "\n",
    "Examples we will be going through:\n",
    "* Protein-ligand\n",
    "* Virtual sites"
   ]
  }
 ],
 "metadata": {
  "kernelspec": {
   "display_name": "Python 3 (ipykernel)",
   "language": "python",
   "name": "python3"
  },
  "language_info": {
   "codemirror_mode": {
    "name": "ipython",
    "version": 3
   },
   "file_extension": ".py",
   "mimetype": "text/x-python",
   "name": "python",
   "nbconvert_exporter": "python",
   "pygments_lexer": "ipython3",
   "version": "3.9.13"
  }
 },
 "nbformat": 4,
 "nbformat_minor": 5
}
