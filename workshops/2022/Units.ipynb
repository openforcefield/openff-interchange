{
 "cells": [
  {
   "cell_type": "markdown",
   "id": "e4556e2f",
   "metadata": {},
   "source": [
    "As a best practice, Interchange always associates explicit units with numerical values. Units are tagged using the [`openff-units`](https://github.com/openforcefield/openff-units#openff-units) package, which provides numerical types associated with commonly used units and methods for ergonomically and safely converting between units."
   ]
  },
  {
   "cell_type": "code",
   "execution_count": null,
   "id": "250d2df8",
   "metadata": {},
   "outputs": [],
   "source": [
    "from openff.units import unit\n",
    "\n",
    "bond_length = unit.Quantity(0.145, unit.nanometer)\n",
    "bond_length"
   ]
  },
  {
   "cell_type": "code",
   "execution_count": null,
   "id": "d0f404dc",
   "metadata": {},
   "outputs": [],
   "source": [
    "# Convert to a Quantity object of another unit\n",
    "bond_length.to(unit.angstrom)"
   ]
  },
  {
   "cell_type": "code",
   "execution_count": null,
   "id": "53262b72",
   "metadata": {},
   "outputs": [],
   "source": [
    "# Convert to a unitless representation as-is, guaranteed to be in Angstroms, or in nanometers\n",
    "bond_length.magnitude, bond_length.m_as(unit.angstrom), bond_length.m_as(unit.nanometer)"
   ]
  },
  {
   "cell_type": "markdown",
   "id": "46999819",
   "metadata": {},
   "source": [
    "Scalar quantities can be serialized to strings using the built-in `str()` function and deserialized using the `unit.Quantity` constructor."
   ]
  },
  {
   "cell_type": "code",
   "execution_count": null,
   "id": "9f753180",
   "metadata": {},
   "outputs": [],
   "source": [
    "k = 10 * unit.kilocalorie / unit.mol / unit.nanometer**2\n",
    "str(k)"
   ]
  },
  {
   "cell_type": "code",
   "execution_count": null,
   "id": "b555f0ee",
   "metadata": {},
   "outputs": [],
   "source": [
    "unit.Quantity(str(k))"
   ]
  },
  {
   "cell_type": "markdown",
   "id": "210726c5",
   "metadata": {},
   "source": [
    "For [compatibility with OpenMM units](https://github.com/openforcefield/openff-units#openmm-interoperability), a submodule (`openff.units.openmm`) with conversion functions (to_openmm, from_openmm) is also provided."
   ]
  },
  {
   "cell_type": "code",
   "execution_count": null,
   "id": "909e1926",
   "metadata": {},
   "outputs": [],
   "source": [
    "from openff.units.openmm import from_openmm, to_openmm\n",
    "\n",
    "distance = 24.0 * unit.meter\n",
    "converted = to_openmm(distance)\n",
    "converted, type(converted)"
   ]
  },
  {
   "cell_type": "code",
   "execution_count": null,
   "id": "1d02843d",
   "metadata": {},
   "outputs": [],
   "source": [
    "roundtripped = from_openmm(converted)\n",
    "roundtripped, type(roundtripped)"
   ]
  },
  {
   "cell_type": "markdown",
   "id": "cdd5a41c",
   "metadata": {},
   "source": [
    "For cases in which a quantity might be an `openff.units.Quantity` or `openmm.unit.Quantity`, a helper function `ensure_quantity` is provided to safely converted either into a specified type. Physically equivalent values provided by either units package should be processed into the same results if provided. The variables `distance`, `converted`, and `roundtripped` that we just made can be coerced into equivalent objects if requested."
   ]
  },
  {
   "cell_type": "code",
   "execution_count": null,
   "id": "08e94ddd",
   "metadata": {},
   "outputs": [],
   "source": [
    "from openff.units.openmm import ensure_quantity\n",
    "\n",
    "ensure_quantity?"
   ]
  },
  {
   "cell_type": "code",
   "execution_count": null,
   "id": "0150988d",
   "metadata": {},
   "outputs": [],
   "source": [
    "type(ensure_quantity(distance, \"openff\")), type(ensure_quantity(distance, \"openmm\"))"
   ]
  },
  {
   "cell_type": "code",
   "execution_count": null,
   "id": "9b378088",
   "metadata": {},
   "outputs": [],
   "source": [
    "assert ensure_quantity(distance, \"openmm\") == ensure_quantity(converted, \"openmm\")\n",
    "assert ensure_quantity(distance, \"openff\") == ensure_quantity(converted, \"openff\")"
   ]
  },
  {
   "cell_type": "markdown",
   "id": "1232ac7e",
   "metadata": {},
   "source": [
    "An effort is made to convert from OpenMM constructs, such as converting `List[openmm.Vec3]` to wrapped NumPy arrays:"
   ]
  },
  {
   "cell_type": "code",
   "execution_count": null,
   "id": "b4470ac9",
   "metadata": {},
   "outputs": [],
   "source": [
    "from openmm import app\n",
    "\n",
    "positions = app.PDBFile(\"pdb/MainChain_ALA.pdb\").getPositions()\n",
    "type(positions), positions"
   ]
  },
  {
   "cell_type": "code",
   "execution_count": null,
   "id": "d4b404e7",
   "metadata": {},
   "outputs": [],
   "source": [
    "converted = from_openmm(positions)\n",
    "type(converted), type(converted.m), converted"
   ]
  },
  {
   "cell_type": "markdown",
   "id": "aa0a7e29",
   "metadata": {},
   "source": [
    "The OpenFF Toolkit uses the same package for handling unit-bearing quantities as of release 0.11.0."
   ]
  },
  {
   "cell_type": "code",
   "execution_count": null,
   "id": "9a808f96",
   "metadata": {},
   "outputs": [],
   "source": [
    "from openff.toolkit import Molecule, __version__\n",
    "from packaging.version import Version\n",
    "\n",
    "assert Version(__version__) >= Version(\"0.11\")\n",
    "\n",
    "hexanol = Molecule.from_smiles(\"c1ccc(Br)cc1Cl\")\n",
    "hexanol"
   ]
  },
  {
   "cell_type": "code",
   "execution_count": null,
   "id": "e7d24e50",
   "metadata": {},
   "outputs": [],
   "source": [
    "hexanol.generate_conformers(n_conformers=1)\n",
    "hexanol.assign_partial_charges(partial_charge_method=\"am1bcc\")\n",
    "type(hexanol.conformers[0]), type(hexanol.partial_charges)"
   ]
  }
 ],
 "metadata": {
  "kernelspec": {
   "display_name": "Python 3 (ipykernel)",
   "language": "python",
   "name": "python3"
  },
  "language_info": {
   "codemirror_mode": {
    "name": "ipython",
    "version": 3
   },
   "file_extension": ".py",
   "mimetype": "text/x-python",
   "name": "python",
   "nbconvert_exporter": "python",
   "pygments_lexer": "ipython3",
   "version": "3.9.13"
  }
 },
 "nbformat": 4,
 "nbformat_minor": 5
}
