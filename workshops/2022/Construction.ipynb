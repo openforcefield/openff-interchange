{
 "cells": [
  {
   "cell_type": "markdown",
   "id": "e4556e2f",
   "metadata": {},
   "source": [
    "An `Interchange` is most commonly constructed via the `Interchange.from_smirnoff()` class method. (There are other ways to construct `Interchange` objects that may be discussed later.) This method takes a SMIRNOFF force field and applies it to a molecular topology. The [OpenFF Toolkit](https://docs.openforcefield.org/projects/toolkit/en/stable/) provides these objects - [`ForceField`](https://docs.openforcefield.org/projects/toolkit/en/stable/api/generated/openff.toolkit.typing.engines.smirnoff.ForceField.html#openff.toolkit.typing.engines.smirnoff.ForceField) and [`Topology`](https://docs.openforcefield.org/projects/toolkit/en/stable/api/generated/openff.toolkit.topology.Topology.html#openff.toolkit.topology.Topology), respectively.\n"
   ]
  },
  {
   "cell_type": "code",
   "execution_count": null,
   "id": "3a9dbb77",
   "metadata": {},
   "outputs": [],
   "source": [
    "from openff.interchange import Interchange\n",
    "\n",
    "Interchange.from_smirnoff?"
   ]
  },
  {
   "cell_type": "markdown",
   "id": "702397d4",
   "metadata": {},
   "source": [
    "Internally, the toolkit's SMARTS-matching algorithms are used to assign parameters to the chemical topology. Recall that SMIRNOFF's use of [direct chemical perception](https://pubs.acs.org/doi/10.1021/acs.jctc.8b00640) bypasses the use of atom types, so atom types to not exist as first-class objects in `Interchange` objects.\n",
    "\n",
    "Preparing the force field and topology inputs is outside the scope of Interchange _per se_, but some time will be spent on system preparation."
   ]
  },
  {
   "cell_type": "markdown",
   "id": "d5d79a6d",
   "metadata": {},
   "source": [
    "`Molecule` objects in the OpenFF Toolkit are rich descrptions of chemistry akin to cheminformatics representations  found in RDKit and OpenEye Toolkits. This is distinct from most molecule mechanics use cases in which coordinates, elements, and bonds are sufficient. The preferred starting point for small molecules is something like an SDF file or a SMILES pattern. (Later, we'll look at how the toolkit can load proteins from PDB files.) For starters, let's generate an ethanol molecule and corresponding topology."
   ]
  },
  {
   "cell_type": "code",
   "execution_count": null,
   "id": "b41e8b7d",
   "metadata": {},
   "outputs": [],
   "source": [
    "from openff.toolkit import Molecule, Topology\n",
    "\n",
    "molecule = Molecule.from_smiles(\"c1ccc(cc1)C[C@@H](C(=O)O)N\")\n",
    "molecule.generate_conformers(n_conformers=2)\n",
    "molecule"
   ]
  },
  {
   "cell_type": "code",
   "execution_count": null,
   "id": "74891600",
   "metadata": {},
   "outputs": [],
   "source": [
    "topology = Topology.from_molecules([molecule])"
   ]
  },
  {
   "cell_type": "markdown",
   "id": "f3398bbe",
   "metadata": {},
   "source": [
    "Loading a force field is, by comparison, straightforward. Let's use OpenFF 2.0.0 (code name \"Sage\"), the latest offering from the Open Force Field Initiative."
   ]
  },
  {
   "cell_type": "code",
   "execution_count": null,
   "id": "d212bcc3",
   "metadata": {},
   "outputs": [],
   "source": [
    "from openff.toolkit import ForceField\n",
    "\n",
    "sage = ForceField(\"openff-2.0.0.offxml\")"
   ]
  },
  {
   "cell_type": "markdown",
   "id": "7c91229f",
   "metadata": {},
   "source": [
    "Now we have the two required inputs for creating an `Interchange`, so let's make one."
   ]
  },
  {
   "cell_type": "code",
   "execution_count": null,
   "id": "0e4ebe98",
   "metadata": {},
   "outputs": [],
   "source": [
    "interchange = Interchange.from_smirnoff(\n",
    "    force_field=sage,\n",
    "    topology=topology,\n",
    ")\n",
    "interchange"
   ]
  },
  {
   "cell_type": "markdown",
   "id": "a1055388",
   "metadata": {},
   "source": [
    "Note that, for convience and familiarity compared to the existing `ForceField.create_openmm_system` method, the toolkit provides `ForceField.create_interchange`, which effectively wraps `Interchange.from_smirnoff` to the same effect."
   ]
  },
  {
   "cell_type": "code",
   "execution_count": null,
   "id": "76a3d630",
   "metadata": {},
   "outputs": [],
   "source": [
    "interchange2 = sage.create_interchange(topology)\n",
    "interchange2"
   ]
  },
  {
   "cell_type": "markdown",
   "id": "7ac63912",
   "metadata": {},
   "source": [
    "This object stores all information known about a system; this includes its chemistry, how that chemistry is represented by a force field, and how the system is organized in 3D space. An Interchange object has five components:\n",
    "\n",
    "1. **Topology**: Stores chemical information, such as connectivity and formal charges, independently of force field\n",
    "1. **Handlers**: Maps the chemical information to force field parameters. The force field itself is not directly stored\n",
    "1. **Positions** (optional): Cartesian co-ordinates of atoms\n",
    "1. **Box vectors** (optional): Periodicity information\n",
    "1. **Velocities** (optional): Cartesian velocities of atoms\n",
    "\n",
    "None are strictly required; an `Interchange` object can be constructed containing none of the above components, although this is not particularly useful:\n"
   ]
  },
  {
   "cell_type": "code",
   "execution_count": null,
   "id": "f96fecee",
   "metadata": {},
   "outputs": [],
   "source": [
    "empty = Interchange()\n",
    "empty.topology, empty.handlers, empty.positions, empty.box, empty.velocities"
   ]
  },
  {
   "cell_type": "markdown",
   "id": "5874cd4d",
   "metadata": {},
   "source": [
    "The `Interchange.topology` attribute carries an object of the same type provided by the toolkit and therefore provides the same API. (In the future this may change)."
   ]
  },
  {
   "cell_type": "code",
   "execution_count": null,
   "id": "562fe38a",
   "metadata": {},
   "outputs": [],
   "source": [
    "interchange.topology.n_atoms, interchange.topology.n_bonds, interchange.topology.molecule(\n",
    "    0\n",
    ").to_smiles()"
   ]
  },
  {
   "cell_type": "markdown",
   "id": "2df9ac24",
   "metadata": {},
   "source": [
    "The `Interchange.handlers` attribute carries a dictionary mapping handler names to `SMIRNOFFPotentialHandler` objects. These carry the physical parameters derived from applying the force field to the topology. We will go into more detail about these objects later."
   ]
  },
  {
   "cell_type": "code",
   "execution_count": null,
   "id": "b4c1623b",
   "metadata": {},
   "outputs": [],
   "source": [
    "[(key, type(value)) for key, value in interchange.handlers.items()]"
   ]
  },
  {
   "cell_type": "markdown",
   "id": "6499eda7",
   "metadata": {},
   "source": [
    "The `Interchange.positions` attribute carries the positions of all atoms if specified in the constructor or included on the provided topology. In our case, we passed a topology with a molecule that had a defined conformer, so `from_smirnoff` set atomic positions from this information."
   ]
  },
  {
   "cell_type": "code",
   "execution_count": null,
   "id": "7456d9cc",
   "metadata": {},
   "outputs": [],
   "source": [
    "import numpy\n",
    "\n",
    "assert numpy.allclose(interchange.positions, molecule.conformers[0])\n",
    "\n",
    "type(interchange.positions), interchange.positions"
   ]
  },
  {
   "cell_type": "markdown",
   "id": "42b0eaa9",
   "metadata": {},
   "source": [
    "`Interchange.positions` also has a setter that allows array-like objects of the shape `(N_atoms, 3)`. For example, we could switch this `interchange` to use the second of the two conformers we generated earlier:"
   ]
  },
  {
   "cell_type": "code",
   "execution_count": null,
   "id": "d85531a4",
   "metadata": {},
   "outputs": [],
   "source": [
    "interchange.positions = molecule.conformers[1]\n",
    "\n",
    "assert not numpy.allclose(interchange.positions, molecule.conformers[0])\n",
    "assert numpy.allclose(interchange.positions, molecule.conformers[1])\n",
    "\n",
    "type(interchange.positions), interchange.positions"
   ]
  },
  {
   "cell_type": "markdown",
   "id": "6c3d05d5",
   "metadata": {},
   "source": [
    "The `Interchange.box` attribute carries information about the periodicity of the system. It can be `None` or a `Quantity` object, with the `None` implying a lack of periodicity. If no `box` argument is passed to `Interchange.from_smirnoff`, it will set box vectors, if any, from the `topology` input. After construction, it can be set with the same process with which we modified the positions."
   ]
  },
  {
   "cell_type": "code",
   "execution_count": null,
   "id": "80646c53",
   "metadata": {},
   "outputs": [],
   "source": [
    "assert topology.box_vectors == interchange.box == None\n",
    "from openff.units import unit\n",
    "\n",
    "interchange.box = unit.Quantity(4.0 * numpy.eye(3), unit.nanometer)\n",
    "interchange.box"
   ]
  },
  {
   "cell_type": "markdown",
   "id": "fa582493",
   "metadata": {},
   "source": [
    "The `Interchange.velocities` attribute carries atomic velocities, which can be set akin to setting other array attributes - by passing an `(N_atoms, 3)` array to the setter."
   ]
  }
 ],
 "metadata": {
  "kernelspec": {
   "display_name": "Python 3.9.13 ('openff-interchange-env')",
   "language": "python",
   "name": "python3"
  },
  "language_info": {
   "codemirror_mode": {
    "name": "ipython",
    "version": 3
   },
   "file_extension": ".py",
   "mimetype": "text/x-python",
   "name": "python",
   "nbconvert_exporter": "python",
   "pygments_lexer": "ipython3",
   "version": "3.9.13"
  },
  "vscode": {
   "interpreter": {
    "hash": "86c9b142c8dc60dd36d17e2a57efabbd2ed015b9d3db80dd77f3e0894d5aea85"
   }
  }
 },
 "nbformat": 4,
 "nbformat_minor": 5
}
