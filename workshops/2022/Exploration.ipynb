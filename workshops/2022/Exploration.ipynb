{
 "cells": [
  {
   "cell_type": "markdown",
   "id": "e4556e2f",
   "metadata": {},
   "source": [
    "The physics of an `Interchange` is included in a sequence of objects called potential handlers.\n",
    "\n",
    "For starters, let's create the same single-molecule `Interchange` we did in the `Exports.ipynb` notebook."
   ]
  },
  {
   "cell_type": "code",
   "execution_count": null,
   "id": "ef933dba",
   "metadata": {},
   "outputs": [],
   "source": [
    "from openff.toolkit import ForceField, Molecule\n",
    "\n",
    "from openff.interchange import Interchange\n",
    "\n",
    "molecule = Molecule.from_smiles(\"c1ccccc1-c2ccccc2\")\n",
    "molecule.generate_conformers(n_conformers=1)\n",
    "\n",
    "sage = ForceField(\"openff-2.0.0.offxml\")\n",
    "\n",
    "interchange = Interchange.from_smirnoff(sage, molecule.to_topology())"
   ]
  },
  {
   "cell_type": "markdown",
   "id": "0773b8c2",
   "metadata": {},
   "source": [
    "Let's quickly visualize this molecule with atom indices. This will be useful if later on we want to look up particular parameters. Note that this indexes the atoms at 1 whereas OpenFF indexed at 0."
   ]
  },
  {
   "cell_type": "code",
   "execution_count": null,
   "id": "e1d62786",
   "metadata": {},
   "outputs": [],
   "source": [
    "from rdkit.Chem import Mol as RDMol\n",
    "\n",
    "\n",
    "# Adapted from https://www.rdkit.org/docs/Cookbook.html#include-an-atom-index\n",
    "def mol_with_atom_index(molecule: Molecule):\n",
    "    molecule_copy = Molecule(molecule)\n",
    "    molecule_copy._conformers = None\n",
    "\n",
    "    rdmol: RDMol = molecule_copy.to_rdkit()\n",
    "    for atom in rdmol.GetAtoms():\n",
    "        atom.SetAtomMapNum(atom.GetIdx())\n",
    "\n",
    "    return rdmol\n",
    "\n",
    "\n",
    "mol_with_atom_index(molecule)"
   ]
  },
  {
   "cell_type": "markdown",
   "id": "f1818588",
   "metadata": {},
   "source": [
    "The potential handlers are stored as a dictionary in the `Interchange.handlers` attribute as a `Dict[str, PotentialHandler]` mapping."
   ]
  },
  {
   "cell_type": "code",
   "execution_count": null,
   "id": "412694d8",
   "metadata": {},
   "outputs": [],
   "source": [
    "[(key, type(value)) for key, value in interchange.handlers.items()]"
   ]
  },
  {
   "cell_type": "markdown",
   "id": "317842e7",
   "metadata": {},
   "source": [
    "Recall that SMIRNOFF groups force field parameters into groups (\"handlers\") roughly corresponding to terms in the potential energy function. These all correspond to components in an `Interchange` object, though not necessarily all 1:1."
   ]
  },
  {
   "cell_type": "code",
   "execution_count": null,
   "id": "52ad5750",
   "metadata": {},
   "outputs": [],
   "source": [
    "sage.registered_parameter_handlers"
   ]
  },
  {
   "cell_type": "markdown",
   "id": "58f16238",
   "metadata": {},
   "source": [
    "Each potential handler implements a few key methods as required by the base class. These are\n",
    "* `type`: A string identifying the type of stored potentials\n",
    "* `expression`: An algebraic expression (or otherwise information) used to compute the potential energy from this handler\n",
    "* `supported_paramters`: A sequence of strings identifying the parameters supported by this handler (i.e. `k`, `periodicity`, `phase`)\n",
    "* `slot_map`: A mapping between topological locations (\"slots\") and unique identifiers of applied parameters\n",
    "* `potentials`: A mapping between unique identifiers of applies parameters and the parameters themselves.\n",
    "\n",
    "Each handler may also introduce more fields and methods as needed."
   ]
  },
  {
   "cell_type": "code",
   "execution_count": null,
   "id": "eda876c0",
   "metadata": {},
   "outputs": [],
   "source": [
    "from openff.interchange.components.smirnoff import SMIRNOFFPotentialHandler\n",
    "\n",
    "SMIRNOFFPotentialHandler?"
   ]
  },
  {
   "cell_type": "markdown",
   "id": "2928ea59",
   "metadata": {},
   "source": [
    "As a simple case, let's look at the bond handler and its contents."
   ]
  },
  {
   "cell_type": "code",
   "execution_count": null,
   "id": "ed2af668",
   "metadata": {},
   "outputs": [],
   "source": [
    "bond_handler = interchange[\"Bonds\"]\n",
    "\n",
    "bond_handler.type, bond_handler.expression"
   ]
  },
  {
   "cell_type": "code",
   "execution_count": null,
   "id": "ae97b474",
   "metadata": {},
   "outputs": [],
   "source": [
    "bond_handler.fractional_bond_order_interpolation, bond_handler.fractional_bond_order_method"
   ]
  },
  {
   "cell_type": "code",
   "execution_count": null,
   "id": "646e5f31",
   "metadata": {},
   "outputs": [],
   "source": [
    "bond_handler.slot_map"
   ]
  },
  {
   "cell_type": "markdown",
   "id": "c1b42e06",
   "metadata": {},
   "source": [
    "Let's inspect these objects one  by one, starting with the first topology key in the slot map."
   ]
  },
  {
   "cell_type": "code",
   "execution_count": null,
   "id": "f2a8b043",
   "metadata": {},
   "outputs": [],
   "source": [
    "first_topology_key = [*bond_handler.slot_map.keys()][0]\n",
    "\n",
    "first_topology_key, type(first_topology_key)"
   ]
  },
  {
   "cell_type": "markdown",
   "id": "aa84a2ef",
   "metadata": {},
   "source": [
    "This object stores information about where in the topology some parameter is meant to be found. In this case, that is fully specified by the indices of the two atoms in the bonds."
   ]
  },
  {
   "cell_type": "code",
   "execution_count": null,
   "id": "81c035c5",
   "metadata": {},
   "outputs": [],
   "source": [
    "first_topology_key.atom_indices"
   ]
  },
  {
   "cell_type": "markdown",
   "id": "0a27d22b",
   "metadata": {},
   "source": [
    "The `PotentialHandler.slot_map` maps from these keys to `PotentialKey` objects, which are unique identifiers of parameters."
   ]
  },
  {
   "cell_type": "code",
   "execution_count": null,
   "id": "f2dd3b34",
   "metadata": {},
   "outputs": [],
   "source": [
    "first_potential_key = bond_handler.slot_map[first_topology_key]\n",
    "\n",
    "first_potential_key, type(first_potential_key)"
   ]
  },
  {
   "cell_type": "markdown",
   "id": "16981219",
   "metadata": {},
   "source": [
    "In the case of SMIRNOFF force fields, the SMIRKS pattern uniquely identifies the parameters in a particular handler. In other typing schemes this might be an atom type or a combination of atom types."
   ]
  },
  {
   "cell_type": "code",
   "execution_count": null,
   "id": "e8b4ce2a",
   "metadata": {},
   "outputs": [],
   "source": [
    "first_potential_key.id, first_potential_key.associated_handler"
   ]
  },
  {
   "cell_type": "markdown",
   "id": "71829bc2",
   "metadata": {},
   "source": [
    "Finally, `PotentialHandler` maps from these potential keys to `potential` objects themselves, allowing for parameter de-duplication and quick lookup."
   ]
  },
  {
   "cell_type": "code",
   "execution_count": null,
   "id": "d00b0653",
   "metadata": {},
   "outputs": [],
   "source": [
    "first_potential = bond_handler.potentials[first_potential_key]\n",
    "\n",
    "first_potential, type(first_potential)"
   ]
  },
  {
   "cell_type": "code",
   "execution_count": null,
   "id": "1b203035",
   "metadata": {},
   "outputs": [],
   "source": [
    "first_potential.parameters"
   ]
  },
  {
   "cell_type": "markdown",
   "id": "c742c1c2",
   "metadata": {},
   "source": [
    "Putting this all together, one could write a function that takes in two atom indices and returns the equilibrium bond length and then use this function to compare the parameters applied to carbon-carbon bonds in each ring and between them."
   ]
  },
  {
   "cell_type": "code",
   "execution_count": null,
   "id": "939344be",
   "metadata": {},
   "outputs": [],
   "source": [
    "from openff.interchange.models import PotentialKey, TopologyKey\n",
    "\n",
    "\n",
    "def get_r(interchange: Interchange, atom_indices: tuple[int]):\n",
    "    bond_handler = interchange[\"Bonds\"]\n",
    "\n",
    "    topology_key = TopologyKey(atom_indices=atom_indices)\n",
    "    potential_key = bond_handler.slot_map[topology_key]\n",
    "    potential = bond_handler.potentials[potential_key]\n",
    "\n",
    "    return potential.parameters[\"length\"]\n",
    "\n",
    "\n",
    "get_r(interchange, (0, 1)), get_r(interchange, (5, 6))"
   ]
  },
  {
   "cell_type": "markdown",
   "id": "ffca3471",
   "metadata": {},
   "source": [
    "More interestingly, we could modify this slightly to instead compare the force constant of in-ring and between-ring torsions. (This only reports the force constant of one phase, but these torsions each happen to be single-phase.)"
   ]
  },
  {
   "cell_type": "code",
   "execution_count": null,
   "id": "23bc2ec9",
   "metadata": {},
   "outputs": [],
   "source": [
    "def get_k(interchange: Interchange, atom_indices: tuple[int]):\n",
    "    bond_handler = interchange[\"ProperTorsions\"]\n",
    "\n",
    "    topology_key = TopologyKey(atom_indices=atom_indices, mult=0)\n",
    "    potential_key = bond_handler.slot_map[topology_key]\n",
    "    potential = bond_handler.potentials[potential_key]\n",
    "\n",
    "    return potential.parameters[\"k\"]\n",
    "\n",
    "\n",
    "get_k(interchange, (0, 1, 2, 3)), get_k(interchange, (0, 5, 6, 7))"
   ]
  }
 ],
 "metadata": {
  "kernelspec": {
   "display_name": "Python 3 (ipykernel)",
   "language": "python",
   "name": "python3"
  },
  "language_info": {
   "codemirror_mode": {
    "name": "ipython",
    "version": 3
   },
   "file_extension": ".py",
   "mimetype": "text/x-python",
   "name": "python",
   "nbconvert_exporter": "python",
   "pygments_lexer": "ipython3",
   "version": "3.9.13"
  },
  "vscode": {
   "interpreter": {
    "hash": "86c9b142c8dc60dd36d17e2a57efabbd2ed015b9d3db80dd77f3e0894d5aea85"
   }
  }
 },
 "nbformat": 4,
 "nbformat_minor": 5
}
