{
 "cells": [
  {
   "cell_type": "markdown",
   "id": "e4556e2f",
   "metadata": {},
   "source": [
    "An `Interchange` object provides several methods to produce input data for other software. Note that none of these methods aim to export _all_ stored information. INstead, they support a design where the principle source of truth is the rich chemical information in the Interchange object and each export method provides only what the file or object needs.\n",
    "\n",
    "For starters, let's create a single-molecule `Interchange` just like we did in the `Construction.ipynb` notebook."
   ]
  },
  {
   "cell_type": "code",
   "execution_count": null,
   "id": "ef933dba",
   "metadata": {},
   "outputs": [],
   "source": [
    "from openff.toolkit import ForceField, Molecule\n",
    "\n",
    "from openff.interchange import Interchange\n",
    "\n",
    "molecule = Molecule.from_smiles(\"c1ccccc1-c2ccccc2\")\n",
    "molecule.generate_conformers(n_conformers=1)\n",
    "\n",
    "sage = ForceField(\"openff-2.0.0.offxml\")\n",
    "\n",
    "interchange = Interchange.from_smirnoff(sage, molecule.to_topology())"
   ]
  },
  {
   "cell_type": "markdown",
   "id": "5ad9a0d4",
   "metadata": {},
   "source": [
    "\n",
    "The simplest example is exported to a PDB file using `Interchange.to_pdb()`"
   ]
  },
  {
   "cell_type": "code",
   "execution_count": null,
   "id": "389feb34",
   "metadata": {},
   "outputs": [],
   "source": [
    "interchange.to_pdb(\"biphenyl.pdb\")"
   ]
  },
  {
   "cell_type": "markdown",
   "id": "7a32b670",
   "metadata": {},
   "source": [
    "From here, you can spot-check the result with NGLView or your favorite visualization software."
   ]
  },
  {
   "cell_type": "code",
   "execution_count": null,
   "id": "c1300a08",
   "metadata": {},
   "outputs": [],
   "source": [
    "import nglview\n",
    "\n",
    "nglview.show_file(\"biphenyl.pdb\")"
   ]
  },
  {
   "cell_type": "markdown",
   "id": "42d56397",
   "metadata": {},
   "source": [
    "GRAMACS coordinate (`.gro`) and topology (`.top`) files can be produced with `Interchange.to_gro()` and `Interchange.to_top()`."
   ]
  },
  {
   "cell_type": "code",
   "execution_count": null,
   "id": "c0b68eac",
   "metadata": {},
   "outputs": [],
   "source": [
    "interchange.to_gro(\"biphenyl.gro\")\n",
    "interchange.to_top(\"biphenyl.top\")"
   ]
  },
  {
   "cell_type": "code",
   "execution_count": null,
   "id": "999f2dc5",
   "metadata": {},
   "outputs": [],
   "source": [
    "nglview.show_file(\"biphenyl.gro\")"
   ]
  },
  {
   "cell_type": "markdown",
   "id": "cfb4c577",
   "metadata": {},
   "source": [
    "An Openmm `System` object can be `Interchange.to_openmm()`. By default, for most use cases, the returned `System` will have its non-bonded interactions split out into several forces."
   ]
  },
  {
   "cell_type": "code",
   "execution_count": null,
   "id": "ab67984b",
   "metadata": {},
   "outputs": [],
   "source": [
    "openmm_system = interchange.to_openmm()\n",
    "\n",
    "for force in openmm_system.getForces():\n",
    "    print(type(force))"
   ]
  },
  {
   "cell_type": "markdown",
   "id": "974d6fbc",
   "metadata": {},
   "source": [
    "This behavior can be toggled off with the argument `combine_nonbonded_forces=True`, which attempts to combine all non-bonded interactions into a single `openmm.NonbondedForce`."
   ]
  },
  {
   "cell_type": "code",
   "execution_count": null,
   "id": "e2273eb3",
   "metadata": {},
   "outputs": [],
   "source": [
    "openmm_system = interchange.to_openmm(combine_nonbonded_forces=True)\n",
    "\n",
    "for force in openmm_system.getForces():\n",
    "    print(type(force))"
   ]
  },
  {
   "cell_type": "markdown",
   "id": "6b227bdd",
   "metadata": {},
   "source": [
    "This is effectively what happens internally when `ForceField.create_openmm_system` is called with OpenFF Toolkit version 0.11.0 and newer; internally an `Interchange` object is created and immediately exported to `openmm.System`, which is then returned."
   ]
  },
  {
   "cell_type": "markdown",
   "id": "ad1c65fe",
   "metadata": {},
   "source": [
    "Amber coordinate (`.inpcrd`) and parameter-topology (`.prmtop`) files can be produced with `Interchange.to_inpcrd()` and `Interchange.to_prmtop()`. Note that Amber exports are comparatively less validated than OpenMM and GROMACS exports - please make an effort to validate the accuracy of these outputs!"
   ]
  },
  {
   "cell_type": "code",
   "execution_count": null,
   "id": "fbd2a0ce",
   "metadata": {},
   "outputs": [],
   "source": [
    "interchange.to_prmtop(\"biphenyl.prmtop\")\n",
    "interchange.to_inpcrd(\"biphenyl.inpcrd\")"
   ]
  },
  {
   "cell_type": "markdown",
   "id": "a5ba051a",
   "metadata": {},
   "source": [
    "LAMMPS data files (`.data`) can be produced with `Interchange.to_lammps()`. Note that LAMMPS exports have only been vlidated for a few test cases and are even more experimental than Amber exports. Please double-check the contents of these files before using them in production!"
   ]
  },
  {
   "cell_type": "code",
   "execution_count": null,
   "id": "71618f4a",
   "metadata": {},
   "outputs": [],
   "source": [
    "interchange.to_lammps(\"biphenyl.lmp\")"
   ]
  }
 ],
 "metadata": {
  "kernelspec": {
   "display_name": "Python 3.9.13 ('openff-interchange-env')",
   "language": "python",
   "name": "python3"
  },
  "language_info": {
   "codemirror_mode": {
    "name": "ipython",
    "version": 3
   },
   "file_extension": ".py",
   "mimetype": "text/x-python",
   "name": "python",
   "nbconvert_exporter": "python",
   "pygments_lexer": "ipython3",
   "version": "3.9.13"
  },
  "vscode": {
   "interpreter": {
    "hash": "86c9b142c8dc60dd36d17e2a57efabbd2ed015b9d3db80dd77f3e0894d5aea85"
   }
  }
 },
 "nbformat": 4,
 "nbformat_minor": 5
}
